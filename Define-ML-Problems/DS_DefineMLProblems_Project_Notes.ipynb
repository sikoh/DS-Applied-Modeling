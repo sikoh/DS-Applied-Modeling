{
  "nbformat": 4,
  "nbformat_minor": 0,
  "metadata": {
    "colab": {
      "provenance": [],
      "collapsed_sections": [
        "tC6MqtN90A0x",
        "EklA_4VYP31G"
      ]
    },
    "kernelspec": {
      "display_name": "Python 3",
      "language": "python",
      "name": "python3"
    },
    "language_info": {
      "codemirror_mode": {
        "name": "ipython",
        "version": 3
      },
      "file_extension": ".py",
      "mimetype": "text/x-python",
      "name": "python",
      "nbconvert_exporter": "python",
      "pygments_lexer": "ipython3",
      "version": "3.8.9"
    }
  },
  "cells": [
    {
      "cell_type": "markdown",
      "metadata": {
        "id": "c9XvBGFMguJ1"
      },
      "source": [
        "# Define ML Problems\n",
        "- Data Leakage\n",
        "- ROC/AUC Curve\n",
        "\n"
      ]
    },
    {
      "cell_type": "code",
      "metadata": {
        "id": "kbOK7kIgwAWA",
        "ExecuteTime": {
          "end_time": "2023-07-07T13:57:46.034760Z",
          "start_time": "2023-07-07T13:57:44.163737Z"
        }
      },
      "source": [
        "import pandas as pd\n",
        "from sklearn.pipeline import make_pipeline\n",
        "from sklearn.impute import SimpleImputer\n",
        "from sklearn.ensemble import RandomForestClassifier\n",
        "from sklearn.linear_model import LogisticRegression\n",
        "from sklearn.preprocessing import StandardScaler\n",
        "from sklearn.metrics import classification_report, roc_curve, ConfusionMatrixDisplay, \\\n",
        "    RocCurveDisplay, roc_auc_score\n",
        "import matplotlib.pyplot as plt"
      ],
      "execution_count": null,
      "outputs": []
    },
    {
      "cell_type": "code",
      "execution_count": null,
      "outputs": [],
      "source": [
        "plot_confusion_matrix = ConfusionMatrixDisplay.from_estimator\n",
        "plot_roc_curve = RocCurveDisplay.from_estimator"
      ],
      "metadata": {
        "ExecuteTime": {
          "end_time": "2023-07-07T13:57:46.040704Z",
          "start_time": "2023-07-07T13:57:46.037681Z"
        },
        "id": "cWVTyixXNAPo"
      }
    },
    {
      "cell_type": "code",
      "source": [
        "pd.set_option('display.max_columns', 500)"
      ],
      "metadata": {
        "id": "NxBBseZ3wE0g",
        "ExecuteTime": {
          "end_time": "2023-07-07T13:57:46.040915Z",
          "start_time": "2023-07-07T13:57:46.038160Z"
        }
      },
      "execution_count": null,
      "outputs": []
    },
    {
      "cell_type": "markdown",
      "metadata": {
        "id": "Vq41fT8Nva6t"
      },
      "source": [
        "# Define ML problems\n",
        "\n",
        "# I. Wrangle Data"
      ]
    },
    {
      "cell_type": "code",
      "execution_count": null,
      "outputs": [
        {
          "data": {
            "text/plain": "                     Location        Burrito       Date Neighborhood  \\\n0          Donato's taco shop    California   1/18/2016      Miramar   \n1        Oscar's Mexican food    California   1/24/2016   San Marcos   \n2        Oscar's Mexican food       Carnitas  1/24/2016          NaN   \n3        Oscar's Mexican food    Carne asada  1/24/2016          NaN   \n4                Pollos Maria     California  1/27/2016     Carlsbad   \n..                        ...            ...        ...          ...   \n418  Valentine's Mexican Food      Al Pastor  8/27/2019          NaN   \n419  Valentine's Mexican Food  Chile Relleno  8/27/2019          NaN   \n420  Valentine's Mexican Food     California  8/27/2019          NaN   \n421  Valentine's Mexican Food         Shrimp  8/27/2019          NaN   \n422  Valentine's Mexican Food    Pollo Asado  8/27/2019          NaN   \n\n                      Address  \\\n0             6780 Miramar Rd   \n1    225 S Rancho Santa Fe Rd   \n2                         NaN   \n3                         NaN   \n4             3055 Harding St   \n..                        ...   \n418                       NaN   \n419                       NaN   \n420                       NaN   \n421                       NaN   \n422                       NaN   \n\n                                                   URL  Yelp  Google Chips  \\\n0                          http://donatostacoshop.net/   3.5     4.2   NaN   \n1    http://www.yelp.com/biz/oscars-mexican-food-sa...   3.5     3.3   NaN   \n2                                                  NaN   NaN     NaN   NaN   \n3                                                  NaN   NaN     NaN   NaN   \n4                              http://pollosmaria.com/   4.0     3.8     x   \n..                                                 ...   ...     ...   ...   \n418                                                NaN   NaN     NaN   NaN   \n419                                                NaN   NaN     NaN   NaN   \n420                                                NaN   NaN     NaN   NaN   \n421                                                NaN   NaN     NaN   NaN   \n422                                                NaN   NaN     NaN   NaN   \n\n     Cost  Hunger  Mass (g)  Density (g/mL)  Length  Circum  Volume  Tortilla  \\\n0    6.49     3.0       NaN             NaN     NaN     NaN     NaN       3.0   \n1    5.45     3.5       NaN             NaN     NaN     NaN     NaN       2.0   \n2    4.85     1.5       NaN             NaN     NaN     NaN     NaN       3.0   \n3    5.25     2.0       NaN             NaN     NaN     NaN     NaN       3.0   \n4    6.59     4.0       NaN             NaN     NaN     NaN     NaN       4.0   \n..    ...     ...       ...             ...     ...     ...     ...       ...   \n418  6.00     1.0       NaN             NaN    17.0    20.5    0.57       5.0   \n419  6.00     4.0       NaN             NaN    19.0    26.0    1.02       4.0   \n420  7.90     3.0       NaN             NaN    20.0    22.0    0.77       4.0   \n421  7.90     3.0       NaN             NaN    22.5    24.5    1.07       5.0   \n422  5.50     3.5       NaN             NaN    17.0    21.3    0.61       3.0   \n\n     Temp  Meat  Fillings  Meat:filling  Uniformity  Salsa  Synergy  Wrap  \\\n0     5.0   3.0       3.5           4.0         4.0    4.0      4.0   4.0   \n1     3.5   2.5       2.5           2.0         4.0    3.5      2.5   5.0   \n2     2.0   2.5       3.0           4.5         4.0    3.0      3.0   5.0   \n3     2.0   3.5       3.0           4.0         5.0    4.0      4.0   5.0   \n4     5.0   4.0       3.5           4.5         5.0    2.5      4.5   4.0   \n..    ...   ...       ...           ...         ...    ...      ...   ...   \n418   4.0   3.5       NaN           4.0         4.0    2.0      2.0   5.0   \n419   5.0   NaN       3.5           4.0         4.0    5.0      4.0   3.0   \n420   4.0   4.0       3.7           3.0         2.0    3.5      4.0   4.5   \n421   2.0   5.0       5.0           5.0         2.0    5.0      5.0   2.0   \n422   5.0   4.3       4.0           4.9         3.8    3.0      4.5   4.0   \n\n     overall  Rec Reviewer                                              Notes  \\\n0       3.80  NaN    Scott                                    good fries: 4/5   \n1       3.00  NaN    Scott                        Fries: 3/5; too little meat   \n2       3.00  NaN    Emily                                                NaN   \n3       3.75  NaN  Ricardo  Go to average burrito place like Rigoberto's i...   \n4       4.20  NaN    Scott                                                NaN   \n..       ...  ...      ...                                                ...   \n418     3.50  NaN     Anon                                                NaN   \n419     4.00  NaN   Bonnie                             non-symmetric wrapping   \n420     3.50  NaN    Scott                  way too small and not enough meat   \n421     4.00  NaN       AC                                                NaN   \n422     4.60  NaN     Sisi  i wish there was some really bomb hot sauce, t...   \n\n    Unreliable NonSD Beef Pico Guac Cheese Fries Sour cream Pork Chicken  \\\n0          NaN   NaN    x    x    x      x     x        NaN  NaN     NaN   \n1          NaN   NaN    x    x    x      x     x        NaN  NaN     NaN   \n2          NaN   NaN  NaN    x    x    NaN   NaN        NaN    x     NaN   \n3          NaN   NaN    x    x    x    NaN   NaN        NaN  NaN     NaN   \n4          NaN   NaN    x    x  NaN      x     x        NaN  NaN     NaN   \n..         ...   ...  ...  ...  ...    ...   ...        ...  ...     ...   \n418        NaN   NaN  NaN  NaN  NaN    NaN   NaN        NaN  NaN     NaN   \n419        NaN   NaN  NaN  NaN  NaN    NaN   NaN        NaN  NaN     NaN   \n420        NaN   NaN  NaN  NaN  NaN    NaN   NaN        NaN  NaN     NaN   \n421        NaN   NaN  NaN  NaN  NaN    NaN   NaN        NaN  NaN     NaN   \n422        NaN   NaN  NaN  NaN  NaN    NaN   NaN        NaN  NaN     NaN   \n\n    Shrimp Fish Rice Beans Lettuce Tomato Bell peper Carrots Cabbage Sauce  \\\n0      NaN  NaN  NaN   NaN     NaN    NaN        NaN     NaN     NaN   NaN   \n1      NaN  NaN  NaN   NaN     NaN    NaN        NaN     NaN     NaN   NaN   \n2      NaN  NaN  NaN   NaN     NaN    NaN        NaN     NaN     NaN   NaN   \n3      NaN  NaN  NaN   NaN     NaN    NaN        NaN     NaN     NaN   NaN   \n4      NaN  NaN  NaN   NaN     NaN    NaN        NaN     NaN     NaN   NaN   \n..     ...  ...  ...   ...     ...    ...        ...     ...     ...   ...   \n418    NaN  NaN  NaN   NaN     NaN    NaN        NaN     NaN     NaN   NaN   \n419    NaN  NaN  NaN   NaN     NaN    NaN        NaN     NaN     NaN   NaN   \n420    NaN  NaN  NaN   NaN     NaN    NaN        NaN     NaN     NaN   NaN   \n421    NaN  NaN  NaN   NaN     NaN    NaN        NaN     NaN     NaN   NaN   \n422    NaN  NaN  NaN   NaN     NaN    NaN        NaN     NaN     NaN   NaN   \n\n    Salsa.1 Cilantro Onion Taquito Pineapple  Ham Chile relleno Nopales  \\\n0       NaN      NaN   NaN     NaN       NaN  NaN           NaN     NaN   \n1       NaN      NaN   NaN     NaN       NaN  NaN           NaN     NaN   \n2       NaN      NaN   NaN     NaN       NaN  NaN           NaN     NaN   \n3       NaN      NaN   NaN     NaN       NaN  NaN           NaN     NaN   \n4       NaN      NaN   NaN     NaN       NaN  NaN           NaN     NaN   \n..      ...      ...   ...     ...       ...  ...           ...     ...   \n418     NaN      NaN   NaN     NaN       NaN  NaN           NaN     NaN   \n419     NaN      NaN   NaN     NaN       NaN  NaN           NaN     NaN   \n420     NaN      NaN   NaN     NaN       NaN  NaN           NaN     NaN   \n421     NaN      NaN   NaN     NaN       NaN  NaN           NaN     NaN   \n422     NaN      NaN   NaN     NaN       NaN  NaN           NaN     NaN   \n\n    Lobster  Queso  Egg Mushroom Bacon Sushi Avocado Corn Zucchini  \n0       NaN    NaN  NaN      NaN   NaN   NaN     NaN  NaN      NaN  \n1       NaN    NaN  NaN      NaN   NaN   NaN     NaN  NaN      NaN  \n2       NaN    NaN  NaN      NaN   NaN   NaN     NaN  NaN      NaN  \n3       NaN    NaN  NaN      NaN   NaN   NaN     NaN  NaN      NaN  \n4       NaN    NaN  NaN      NaN   NaN   NaN     NaN  NaN      NaN  \n..      ...    ...  ...      ...   ...   ...     ...  ...      ...  \n418     NaN    NaN  NaN      NaN   NaN   NaN     NaN  NaN      NaN  \n419     NaN    NaN  NaN      NaN   NaN   NaN     NaN  NaN      NaN  \n420     NaN    NaN  NaN      NaN   NaN   NaN     NaN  NaN      NaN  \n421     NaN    NaN  NaN      NaN   NaN   NaN     NaN  NaN      NaN  \n422     NaN    NaN  NaN      NaN   NaN   NaN     NaN  NaN      NaN  \n\n[423 rows x 66 columns]",
            "text/html": "<div>\n<style scoped>\n    .dataframe tbody tr th:only-of-type {\n        vertical-align: middle;\n    }\n\n    .dataframe tbody tr th {\n        vertical-align: top;\n    }\n\n    .dataframe thead th {\n        text-align: right;\n    }\n</style>\n<table border=\"1\" class=\"dataframe\">\n  <thead>\n    <tr style=\"text-align: right;\">\n      <th></th>\n      <th>Location</th>\n      <th>Burrito</th>\n      <th>Date</th>\n      <th>Neighborhood</th>\n      <th>Address</th>\n      <th>URL</th>\n      <th>Yelp</th>\n      <th>Google</th>\n      <th>Chips</th>\n      <th>Cost</th>\n      <th>Hunger</th>\n      <th>Mass (g)</th>\n      <th>Density (g/mL)</th>\n      <th>Length</th>\n      <th>Circum</th>\n      <th>Volume</th>\n      <th>Tortilla</th>\n      <th>Temp</th>\n      <th>Meat</th>\n      <th>Fillings</th>\n      <th>Meat:filling</th>\n      <th>Uniformity</th>\n      <th>Salsa</th>\n      <th>Synergy</th>\n      <th>Wrap</th>\n      <th>overall</th>\n      <th>Rec</th>\n      <th>Reviewer</th>\n      <th>Notes</th>\n      <th>Unreliable</th>\n      <th>NonSD</th>\n      <th>Beef</th>\n      <th>Pico</th>\n      <th>Guac</th>\n      <th>Cheese</th>\n      <th>Fries</th>\n      <th>Sour cream</th>\n      <th>Pork</th>\n      <th>Chicken</th>\n      <th>Shrimp</th>\n      <th>Fish</th>\n      <th>Rice</th>\n      <th>Beans</th>\n      <th>Lettuce</th>\n      <th>Tomato</th>\n      <th>Bell peper</th>\n      <th>Carrots</th>\n      <th>Cabbage</th>\n      <th>Sauce</th>\n      <th>Salsa.1</th>\n      <th>Cilantro</th>\n      <th>Onion</th>\n      <th>Taquito</th>\n      <th>Pineapple</th>\n      <th>Ham</th>\n      <th>Chile relleno</th>\n      <th>Nopales</th>\n      <th>Lobster</th>\n      <th>Queso</th>\n      <th>Egg</th>\n      <th>Mushroom</th>\n      <th>Bacon</th>\n      <th>Sushi</th>\n      <th>Avocado</th>\n      <th>Corn</th>\n      <th>Zucchini</th>\n    </tr>\n  </thead>\n  <tbody>\n    <tr>\n      <th>0</th>\n      <td>Donato's taco shop</td>\n      <td>California</td>\n      <td>1/18/2016</td>\n      <td>Miramar</td>\n      <td>6780 Miramar Rd</td>\n      <td>http://donatostacoshop.net/</td>\n      <td>3.5</td>\n      <td>4.2</td>\n      <td>NaN</td>\n      <td>6.49</td>\n      <td>3.0</td>\n      <td>NaN</td>\n      <td>NaN</td>\n      <td>NaN</td>\n      <td>NaN</td>\n      <td>NaN</td>\n      <td>3.0</td>\n      <td>5.0</td>\n      <td>3.0</td>\n      <td>3.5</td>\n      <td>4.0</td>\n      <td>4.0</td>\n      <td>4.0</td>\n      <td>4.0</td>\n      <td>4.0</td>\n      <td>3.80</td>\n      <td>NaN</td>\n      <td>Scott</td>\n      <td>good fries: 4/5</td>\n      <td>NaN</td>\n      <td>NaN</td>\n      <td>x</td>\n      <td>x</td>\n      <td>x</td>\n      <td>x</td>\n      <td>x</td>\n      <td>NaN</td>\n      <td>NaN</td>\n      <td>NaN</td>\n      <td>NaN</td>\n      <td>NaN</td>\n      <td>NaN</td>\n      <td>NaN</td>\n      <td>NaN</td>\n      <td>NaN</td>\n      <td>NaN</td>\n      <td>NaN</td>\n      <td>NaN</td>\n      <td>NaN</td>\n      <td>NaN</td>\n      <td>NaN</td>\n      <td>NaN</td>\n      <td>NaN</td>\n      <td>NaN</td>\n      <td>NaN</td>\n      <td>NaN</td>\n      <td>NaN</td>\n      <td>NaN</td>\n      <td>NaN</td>\n      <td>NaN</td>\n      <td>NaN</td>\n      <td>NaN</td>\n      <td>NaN</td>\n      <td>NaN</td>\n      <td>NaN</td>\n      <td>NaN</td>\n    </tr>\n    <tr>\n      <th>1</th>\n      <td>Oscar's Mexican food</td>\n      <td>California</td>\n      <td>1/24/2016</td>\n      <td>San Marcos</td>\n      <td>225 S Rancho Santa Fe Rd</td>\n      <td>http://www.yelp.com/biz/oscars-mexican-food-sa...</td>\n      <td>3.5</td>\n      <td>3.3</td>\n      <td>NaN</td>\n      <td>5.45</td>\n      <td>3.5</td>\n      <td>NaN</td>\n      <td>NaN</td>\n      <td>NaN</td>\n      <td>NaN</td>\n      <td>NaN</td>\n      <td>2.0</td>\n      <td>3.5</td>\n      <td>2.5</td>\n      <td>2.5</td>\n      <td>2.0</td>\n      <td>4.0</td>\n      <td>3.5</td>\n      <td>2.5</td>\n      <td>5.0</td>\n      <td>3.00</td>\n      <td>NaN</td>\n      <td>Scott</td>\n      <td>Fries: 3/5; too little meat</td>\n      <td>NaN</td>\n      <td>NaN</td>\n      <td>x</td>\n      <td>x</td>\n      <td>x</td>\n      <td>x</td>\n      <td>x</td>\n      <td>NaN</td>\n      <td>NaN</td>\n      <td>NaN</td>\n      <td>NaN</td>\n      <td>NaN</td>\n      <td>NaN</td>\n      <td>NaN</td>\n      <td>NaN</td>\n      <td>NaN</td>\n      <td>NaN</td>\n      <td>NaN</td>\n      <td>NaN</td>\n      <td>NaN</td>\n      <td>NaN</td>\n      <td>NaN</td>\n      <td>NaN</td>\n      <td>NaN</td>\n      <td>NaN</td>\n      <td>NaN</td>\n      <td>NaN</td>\n      <td>NaN</td>\n      <td>NaN</td>\n      <td>NaN</td>\n      <td>NaN</td>\n      <td>NaN</td>\n      <td>NaN</td>\n      <td>NaN</td>\n      <td>NaN</td>\n      <td>NaN</td>\n      <td>NaN</td>\n    </tr>\n    <tr>\n      <th>2</th>\n      <td>Oscar's Mexican food</td>\n      <td>Carnitas</td>\n      <td>1/24/2016</td>\n      <td>NaN</td>\n      <td>NaN</td>\n      <td>NaN</td>\n      <td>NaN</td>\n      <td>NaN</td>\n      <td>NaN</td>\n      <td>4.85</td>\n      <td>1.5</td>\n      <td>NaN</td>\n      <td>NaN</td>\n      <td>NaN</td>\n      <td>NaN</td>\n      <td>NaN</td>\n      <td>3.0</td>\n      <td>2.0</td>\n      <td>2.5</td>\n      <td>3.0</td>\n      <td>4.5</td>\n      <td>4.0</td>\n      <td>3.0</td>\n      <td>3.0</td>\n      <td>5.0</td>\n      <td>3.00</td>\n      <td>NaN</td>\n      <td>Emily</td>\n      <td>NaN</td>\n      <td>NaN</td>\n      <td>NaN</td>\n      <td>NaN</td>\n      <td>x</td>\n      <td>x</td>\n      <td>NaN</td>\n      <td>NaN</td>\n      <td>NaN</td>\n      <td>x</td>\n      <td>NaN</td>\n      <td>NaN</td>\n      <td>NaN</td>\n      <td>NaN</td>\n      <td>NaN</td>\n      <td>NaN</td>\n      <td>NaN</td>\n      <td>NaN</td>\n      <td>NaN</td>\n      <td>NaN</td>\n      <td>NaN</td>\n      <td>NaN</td>\n      <td>NaN</td>\n      <td>NaN</td>\n      <td>NaN</td>\n      <td>NaN</td>\n      <td>NaN</td>\n      <td>NaN</td>\n      <td>NaN</td>\n      <td>NaN</td>\n      <td>NaN</td>\n      <td>NaN</td>\n      <td>NaN</td>\n      <td>NaN</td>\n      <td>NaN</td>\n      <td>NaN</td>\n      <td>NaN</td>\n      <td>NaN</td>\n    </tr>\n    <tr>\n      <th>3</th>\n      <td>Oscar's Mexican food</td>\n      <td>Carne asada</td>\n      <td>1/24/2016</td>\n      <td>NaN</td>\n      <td>NaN</td>\n      <td>NaN</td>\n      <td>NaN</td>\n      <td>NaN</td>\n      <td>NaN</td>\n      <td>5.25</td>\n      <td>2.0</td>\n      <td>NaN</td>\n      <td>NaN</td>\n      <td>NaN</td>\n      <td>NaN</td>\n      <td>NaN</td>\n      <td>3.0</td>\n      <td>2.0</td>\n      <td>3.5</td>\n      <td>3.0</td>\n      <td>4.0</td>\n      <td>5.0</td>\n      <td>4.0</td>\n      <td>4.0</td>\n      <td>5.0</td>\n      <td>3.75</td>\n      <td>NaN</td>\n      <td>Ricardo</td>\n      <td>Go to average burrito place like Rigoberto's i...</td>\n      <td>NaN</td>\n      <td>NaN</td>\n      <td>x</td>\n      <td>x</td>\n      <td>x</td>\n      <td>NaN</td>\n      <td>NaN</td>\n      <td>NaN</td>\n      <td>NaN</td>\n      <td>NaN</td>\n      <td>NaN</td>\n      <td>NaN</td>\n      <td>NaN</td>\n      <td>NaN</td>\n      <td>NaN</td>\n      <td>NaN</td>\n      <td>NaN</td>\n      <td>NaN</td>\n      <td>NaN</td>\n      <td>NaN</td>\n      <td>NaN</td>\n      <td>NaN</td>\n      <td>NaN</td>\n      <td>NaN</td>\n      <td>NaN</td>\n      <td>NaN</td>\n      <td>NaN</td>\n      <td>NaN</td>\n      <td>NaN</td>\n      <td>NaN</td>\n      <td>NaN</td>\n      <td>NaN</td>\n      <td>NaN</td>\n      <td>NaN</td>\n      <td>NaN</td>\n      <td>NaN</td>\n      <td>NaN</td>\n    </tr>\n    <tr>\n      <th>4</th>\n      <td>Pollos Maria</td>\n      <td>California</td>\n      <td>1/27/2016</td>\n      <td>Carlsbad</td>\n      <td>3055 Harding St</td>\n      <td>http://pollosmaria.com/</td>\n      <td>4.0</td>\n      <td>3.8</td>\n      <td>x</td>\n      <td>6.59</td>\n      <td>4.0</td>\n      <td>NaN</td>\n      <td>NaN</td>\n      <td>NaN</td>\n      <td>NaN</td>\n      <td>NaN</td>\n      <td>4.0</td>\n      <td>5.0</td>\n      <td>4.0</td>\n      <td>3.5</td>\n      <td>4.5</td>\n      <td>5.0</td>\n      <td>2.5</td>\n      <td>4.5</td>\n      <td>4.0</td>\n      <td>4.20</td>\n      <td>NaN</td>\n      <td>Scott</td>\n      <td>NaN</td>\n      <td>NaN</td>\n      <td>NaN</td>\n      <td>x</td>\n      <td>x</td>\n      <td>NaN</td>\n      <td>x</td>\n      <td>x</td>\n      <td>NaN</td>\n      <td>NaN</td>\n      <td>NaN</td>\n      <td>NaN</td>\n      <td>NaN</td>\n      <td>NaN</td>\n      <td>NaN</td>\n      <td>NaN</td>\n      <td>NaN</td>\n      <td>NaN</td>\n      <td>NaN</td>\n      <td>NaN</td>\n      <td>NaN</td>\n      <td>NaN</td>\n      <td>NaN</td>\n      <td>NaN</td>\n      <td>NaN</td>\n      <td>NaN</td>\n      <td>NaN</td>\n      <td>NaN</td>\n      <td>NaN</td>\n      <td>NaN</td>\n      <td>NaN</td>\n      <td>NaN</td>\n      <td>NaN</td>\n      <td>NaN</td>\n      <td>NaN</td>\n      <td>NaN</td>\n      <td>NaN</td>\n      <td>NaN</td>\n    </tr>\n    <tr>\n      <th>...</th>\n      <td>...</td>\n      <td>...</td>\n      <td>...</td>\n      <td>...</td>\n      <td>...</td>\n      <td>...</td>\n      <td>...</td>\n      <td>...</td>\n      <td>...</td>\n      <td>...</td>\n      <td>...</td>\n      <td>...</td>\n      <td>...</td>\n      <td>...</td>\n      <td>...</td>\n      <td>...</td>\n      <td>...</td>\n      <td>...</td>\n      <td>...</td>\n      <td>...</td>\n      <td>...</td>\n      <td>...</td>\n      <td>...</td>\n      <td>...</td>\n      <td>...</td>\n      <td>...</td>\n      <td>...</td>\n      <td>...</td>\n      <td>...</td>\n      <td>...</td>\n      <td>...</td>\n      <td>...</td>\n      <td>...</td>\n      <td>...</td>\n      <td>...</td>\n      <td>...</td>\n      <td>...</td>\n      <td>...</td>\n      <td>...</td>\n      <td>...</td>\n      <td>...</td>\n      <td>...</td>\n      <td>...</td>\n      <td>...</td>\n      <td>...</td>\n      <td>...</td>\n      <td>...</td>\n      <td>...</td>\n      <td>...</td>\n      <td>...</td>\n      <td>...</td>\n      <td>...</td>\n      <td>...</td>\n      <td>...</td>\n      <td>...</td>\n      <td>...</td>\n      <td>...</td>\n      <td>...</td>\n      <td>...</td>\n      <td>...</td>\n      <td>...</td>\n      <td>...</td>\n      <td>...</td>\n      <td>...</td>\n      <td>...</td>\n      <td>...</td>\n    </tr>\n    <tr>\n      <th>418</th>\n      <td>Valentine's Mexican Food</td>\n      <td>Al Pastor</td>\n      <td>8/27/2019</td>\n      <td>NaN</td>\n      <td>NaN</td>\n      <td>NaN</td>\n      <td>NaN</td>\n      <td>NaN</td>\n      <td>NaN</td>\n      <td>6.00</td>\n      <td>1.0</td>\n      <td>NaN</td>\n      <td>NaN</td>\n      <td>17.0</td>\n      <td>20.5</td>\n      <td>0.57</td>\n      <td>5.0</td>\n      <td>4.0</td>\n      <td>3.5</td>\n      <td>NaN</td>\n      <td>4.0</td>\n      <td>4.0</td>\n      <td>2.0</td>\n      <td>2.0</td>\n      <td>5.0</td>\n      <td>3.50</td>\n      <td>NaN</td>\n      <td>Anon</td>\n      <td>NaN</td>\n      <td>NaN</td>\n      <td>NaN</td>\n      <td>NaN</td>\n      <td>NaN</td>\n      <td>NaN</td>\n      <td>NaN</td>\n      <td>NaN</td>\n      <td>NaN</td>\n      <td>NaN</td>\n      <td>NaN</td>\n      <td>NaN</td>\n      <td>NaN</td>\n      <td>NaN</td>\n      <td>NaN</td>\n      <td>NaN</td>\n      <td>NaN</td>\n      <td>NaN</td>\n      <td>NaN</td>\n      <td>NaN</td>\n      <td>NaN</td>\n      <td>NaN</td>\n      <td>NaN</td>\n      <td>NaN</td>\n      <td>NaN</td>\n      <td>NaN</td>\n      <td>NaN</td>\n      <td>NaN</td>\n      <td>NaN</td>\n      <td>NaN</td>\n      <td>NaN</td>\n      <td>NaN</td>\n      <td>NaN</td>\n      <td>NaN</td>\n      <td>NaN</td>\n      <td>NaN</td>\n      <td>NaN</td>\n      <td>NaN</td>\n    </tr>\n    <tr>\n      <th>419</th>\n      <td>Valentine's Mexican Food</td>\n      <td>Chile Relleno</td>\n      <td>8/27/2019</td>\n      <td>NaN</td>\n      <td>NaN</td>\n      <td>NaN</td>\n      <td>NaN</td>\n      <td>NaN</td>\n      <td>NaN</td>\n      <td>6.00</td>\n      <td>4.0</td>\n      <td>NaN</td>\n      <td>NaN</td>\n      <td>19.0</td>\n      <td>26.0</td>\n      <td>1.02</td>\n      <td>4.0</td>\n      <td>5.0</td>\n      <td>NaN</td>\n      <td>3.5</td>\n      <td>4.0</td>\n      <td>4.0</td>\n      <td>5.0</td>\n      <td>4.0</td>\n      <td>3.0</td>\n      <td>4.00</td>\n      <td>NaN</td>\n      <td>Bonnie</td>\n      <td>non-symmetric wrapping</td>\n      <td>NaN</td>\n      <td>NaN</td>\n      <td>NaN</td>\n      <td>NaN</td>\n      <td>NaN</td>\n      <td>NaN</td>\n      <td>NaN</td>\n      <td>NaN</td>\n      <td>NaN</td>\n      <td>NaN</td>\n      <td>NaN</td>\n      <td>NaN</td>\n      <td>NaN</td>\n      <td>NaN</td>\n      <td>NaN</td>\n      <td>NaN</td>\n      <td>NaN</td>\n      <td>NaN</td>\n      <td>NaN</td>\n      <td>NaN</td>\n      <td>NaN</td>\n      <td>NaN</td>\n      <td>NaN</td>\n      <td>NaN</td>\n      <td>NaN</td>\n      <td>NaN</td>\n      <td>NaN</td>\n      <td>NaN</td>\n      <td>NaN</td>\n      <td>NaN</td>\n      <td>NaN</td>\n      <td>NaN</td>\n      <td>NaN</td>\n      <td>NaN</td>\n      <td>NaN</td>\n      <td>NaN</td>\n      <td>NaN</td>\n    </tr>\n    <tr>\n      <th>420</th>\n      <td>Valentine's Mexican Food</td>\n      <td>California</td>\n      <td>8/27/2019</td>\n      <td>NaN</td>\n      <td>NaN</td>\n      <td>NaN</td>\n      <td>NaN</td>\n      <td>NaN</td>\n      <td>NaN</td>\n      <td>7.90</td>\n      <td>3.0</td>\n      <td>NaN</td>\n      <td>NaN</td>\n      <td>20.0</td>\n      <td>22.0</td>\n      <td>0.77</td>\n      <td>4.0</td>\n      <td>4.0</td>\n      <td>4.0</td>\n      <td>3.7</td>\n      <td>3.0</td>\n      <td>2.0</td>\n      <td>3.5</td>\n      <td>4.0</td>\n      <td>4.5</td>\n      <td>3.50</td>\n      <td>NaN</td>\n      <td>Scott</td>\n      <td>way too small and not enough meat</td>\n      <td>NaN</td>\n      <td>NaN</td>\n      <td>NaN</td>\n      <td>NaN</td>\n      <td>NaN</td>\n      <td>NaN</td>\n      <td>NaN</td>\n      <td>NaN</td>\n      <td>NaN</td>\n      <td>NaN</td>\n      <td>NaN</td>\n      <td>NaN</td>\n      <td>NaN</td>\n      <td>NaN</td>\n      <td>NaN</td>\n      <td>NaN</td>\n      <td>NaN</td>\n      <td>NaN</td>\n      <td>NaN</td>\n      <td>NaN</td>\n      <td>NaN</td>\n      <td>NaN</td>\n      <td>NaN</td>\n      <td>NaN</td>\n      <td>NaN</td>\n      <td>NaN</td>\n      <td>NaN</td>\n      <td>NaN</td>\n      <td>NaN</td>\n      <td>NaN</td>\n      <td>NaN</td>\n      <td>NaN</td>\n      <td>NaN</td>\n      <td>NaN</td>\n      <td>NaN</td>\n      <td>NaN</td>\n      <td>NaN</td>\n    </tr>\n    <tr>\n      <th>421</th>\n      <td>Valentine's Mexican Food</td>\n      <td>Shrimp</td>\n      <td>8/27/2019</td>\n      <td>NaN</td>\n      <td>NaN</td>\n      <td>NaN</td>\n      <td>NaN</td>\n      <td>NaN</td>\n      <td>NaN</td>\n      <td>7.90</td>\n      <td>3.0</td>\n      <td>NaN</td>\n      <td>NaN</td>\n      <td>22.5</td>\n      <td>24.5</td>\n      <td>1.07</td>\n      <td>5.0</td>\n      <td>2.0</td>\n      <td>5.0</td>\n      <td>5.0</td>\n      <td>5.0</td>\n      <td>2.0</td>\n      <td>5.0</td>\n      <td>5.0</td>\n      <td>2.0</td>\n      <td>4.00</td>\n      <td>NaN</td>\n      <td>AC</td>\n      <td>NaN</td>\n      <td>NaN</td>\n      <td>NaN</td>\n      <td>NaN</td>\n      <td>NaN</td>\n      <td>NaN</td>\n      <td>NaN</td>\n      <td>NaN</td>\n      <td>NaN</td>\n      <td>NaN</td>\n      <td>NaN</td>\n      <td>NaN</td>\n      <td>NaN</td>\n      <td>NaN</td>\n      <td>NaN</td>\n      <td>NaN</td>\n      <td>NaN</td>\n      <td>NaN</td>\n      <td>NaN</td>\n      <td>NaN</td>\n      <td>NaN</td>\n      <td>NaN</td>\n      <td>NaN</td>\n      <td>NaN</td>\n      <td>NaN</td>\n      <td>NaN</td>\n      <td>NaN</td>\n      <td>NaN</td>\n      <td>NaN</td>\n      <td>NaN</td>\n      <td>NaN</td>\n      <td>NaN</td>\n      <td>NaN</td>\n      <td>NaN</td>\n      <td>NaN</td>\n      <td>NaN</td>\n      <td>NaN</td>\n      <td>NaN</td>\n    </tr>\n    <tr>\n      <th>422</th>\n      <td>Valentine's Mexican Food</td>\n      <td>Pollo Asado</td>\n      <td>8/27/2019</td>\n      <td>NaN</td>\n      <td>NaN</td>\n      <td>NaN</td>\n      <td>NaN</td>\n      <td>NaN</td>\n      <td>NaN</td>\n      <td>5.50</td>\n      <td>3.5</td>\n      <td>NaN</td>\n      <td>NaN</td>\n      <td>17.0</td>\n      <td>21.3</td>\n      <td>0.61</td>\n      <td>3.0</td>\n      <td>5.0</td>\n      <td>4.3</td>\n      <td>4.0</td>\n      <td>4.9</td>\n      <td>3.8</td>\n      <td>3.0</td>\n      <td>4.5</td>\n      <td>4.0</td>\n      <td>4.60</td>\n      <td>NaN</td>\n      <td>Sisi</td>\n      <td>i wish there was some really bomb hot sauce, t...</td>\n      <td>NaN</td>\n      <td>NaN</td>\n      <td>NaN</td>\n      <td>NaN</td>\n      <td>NaN</td>\n      <td>NaN</td>\n      <td>NaN</td>\n      <td>NaN</td>\n      <td>NaN</td>\n      <td>NaN</td>\n      <td>NaN</td>\n      <td>NaN</td>\n      <td>NaN</td>\n      <td>NaN</td>\n      <td>NaN</td>\n      <td>NaN</td>\n      <td>NaN</td>\n      <td>NaN</td>\n      <td>NaN</td>\n      <td>NaN</td>\n      <td>NaN</td>\n      <td>NaN</td>\n      <td>NaN</td>\n      <td>NaN</td>\n      <td>NaN</td>\n      <td>NaN</td>\n      <td>NaN</td>\n      <td>NaN</td>\n      <td>NaN</td>\n      <td>NaN</td>\n      <td>NaN</td>\n      <td>NaN</td>\n      <td>NaN</td>\n      <td>NaN</td>\n      <td>NaN</td>\n      <td>NaN</td>\n      <td>NaN</td>\n    </tr>\n  </tbody>\n</table>\n<p>423 rows × 66 columns</p>\n</div>"
          },
          "execution_count": 5,
          "metadata": {},
          "output_type": "execute_result"
        }
      ],
      "source": [
        "DATA_PATH = 'https://raw.githubusercontent.com/bloominstituteoftechnology/DS-Unit-2-Applied-Modeling/master/data/'\n",
        "\n",
        "pd.read_csv(DATA_PATH + 'burritos/burritos.csv')"
      ],
      "metadata": {
        "ExecuteTime": {
          "end_time": "2023-07-07T13:58:11.421756Z",
          "start_time": "2023-07-07T13:58:11.013027Z"
        },
        "id": "vw-Ifbr0NAPo",
        "outputId": "2aeebf54-186e-4e49-ee5c-dc75f64d8ae9"
      }
    },
    {
      "cell_type": "code",
      "metadata": {
        "id": "7rPiEC4Dva6y",
        "ExecuteTime": {
          "end_time": "2023-07-07T13:58:35.277652Z",
          "start_time": "2023-07-07T13:58:35.261248Z"
        }
      },
      "source": [
        "def wrangle(filepath):\n",
        "\n",
        "    # Import w/ DateTimeIndex\n",
        "    df = pd.read_csv(filepath, parse_dates=['Date'], index_col='Date')\n",
        "\n",
        "    # drop rows with no overall rating\n",
        "    df.dropna(subset=['overall'], inplace=True)\n",
        "\n",
        "    # Create `'great'` column as target\n",
        "    df['great'] = (df['overall'] >= 4).astype(int)\n",
        "\n",
        "    # Drop overall column to prevent data leakage\n",
        "    df.drop(columns='overall', inplace=True)\n",
        "\n",
        "    # Clean binary encoded columns\n",
        "    categorical_cols = df.select_dtypes('object').columns\n",
        "    # use categorical columns which are basically binary encoded\n",
        "    binary_cols = [col for col in categorical_cols if df[col].nunique() < 4]\n",
        "    for col in binary_cols:\n",
        "        df[col] = df[col].apply(lambda x: 1 if isinstance(x, str) else 0)\n",
        "\n",
        "    # Drop high-cardinality categorical variables\n",
        "    threshold = 20\n",
        "\n",
        "    high_card_cols = [col for col in categorical_cols\n",
        "                      if df[col].nunique() > threshold]\n",
        "    df.drop(high_card_cols, axis=1, inplace=True)\n",
        "\n",
        "    # Dropping columns with high number of NaN values\n",
        "    df.dropna(axis=1, thresh=300, inplace=True)\n",
        "\n",
        "    return df"
      ],
      "execution_count": null,
      "outputs": []
    },
    {
      "cell_type": "code",
      "metadata": {
        "id": "m3NYTxupva6z",
        "ExecuteTime": {
          "end_time": "2023-07-07T13:58:36.144501Z",
          "start_time": "2023-07-07T13:58:35.762981Z"
        },
        "outputId": "a7dec5d3-8de3-48c9-cac7-1f66f29cdd03"
      },
      "source": [
        "df = wrangle(DATA_PATH + 'burritos/burritos.csv')\n",
        "df.head()"
      ],
      "execution_count": null,
      "outputs": [
        {
          "data": {
            "text/plain": "            Cost  Hunger  Tortilla  Temp  Meat  Fillings  Meat:filling  \\\nDate                                                                     \n2016-01-18  6.49     3.0       3.0   5.0   3.0       3.5           4.0   \n2016-01-24  5.45     3.5       2.0   3.5   2.5       2.5           2.0   \n2016-01-24  4.85     1.5       3.0   2.0   2.5       3.0           4.5   \n2016-01-24  5.25     2.0       3.0   2.0   3.5       3.0           4.0   \n2016-01-27  6.59     4.0       4.0   5.0   4.0       3.5           4.5   \n\n            Uniformity  Salsa  Synergy  Wrap  Unreliable  NonSD  Beef  Pico  \\\nDate                                                                          \n2016-01-18         4.0    4.0      4.0   4.0           0      0     1     1   \n2016-01-24         4.0    3.5      2.5   5.0           0      0     1     1   \n2016-01-24         4.0    3.0      3.0   5.0           0      0     0     1   \n2016-01-24         5.0    4.0      4.0   5.0           0      0     1     1   \n2016-01-27         5.0    2.5      4.5   4.0           0      0     1     1   \n\n            Guac  Cheese  Fries  Sour cream  Pork  Chicken  Shrimp  Fish  \\\nDate                                                                       \n2016-01-18     1       1      1           0     0        0       0     0   \n2016-01-24     1       1      1           0     0        0       0     0   \n2016-01-24     1       0      0           0     1        0       0     0   \n2016-01-24     1       0      0           0     0        0       0     0   \n2016-01-27     0       1      1           0     0        0       0     0   \n\n            Rice  Beans  Lettuce  Tomato  Bell peper  Carrots  Cabbage  Sauce  \\\nDate                                                                            \n2016-01-18     0      0        0       0           0        0        0      0   \n2016-01-24     0      0        0       0           0        0        0      0   \n2016-01-24     0      0        0       0           0        0        0      0   \n2016-01-24     0      0        0       0           0        0        0      0   \n2016-01-27     0      0        0       0           0        0        0      0   \n\n            Salsa.1  Cilantro  Onion  Taquito  Pineapple  Ham  Chile relleno  \\\nDate                                                                           \n2016-01-18        0         0      0        0          0    0              0   \n2016-01-24        0         0      0        0          0    0              0   \n2016-01-24        0         0      0        0          0    0              0   \n2016-01-24        0         0      0        0          0    0              0   \n2016-01-27        0         0      0        0          0    0              0   \n\n            Nopales  Lobster  Egg  Mushroom  Bacon  Sushi  Avocado  Corn  \\\nDate                                                                       \n2016-01-18        0        0    0         0      0      0        0     0   \n2016-01-24        0        0    0         0      0      0        0     0   \n2016-01-24        0        0    0         0      0      0        0     0   \n2016-01-24        0        0    0         0      0      0        0     0   \n2016-01-27        0        0    0         0      0      0        0     0   \n\n            Zucchini  great  \nDate                         \n2016-01-18         0      0  \n2016-01-24         0      0  \n2016-01-24         0      0  \n2016-01-24         0      0  \n2016-01-27         0      1  ",
            "text/html": "<div>\n<style scoped>\n    .dataframe tbody tr th:only-of-type {\n        vertical-align: middle;\n    }\n\n    .dataframe tbody tr th {\n        vertical-align: top;\n    }\n\n    .dataframe thead th {\n        text-align: right;\n    }\n</style>\n<table border=\"1\" class=\"dataframe\">\n  <thead>\n    <tr style=\"text-align: right;\">\n      <th></th>\n      <th>Cost</th>\n      <th>Hunger</th>\n      <th>Tortilla</th>\n      <th>Temp</th>\n      <th>Meat</th>\n      <th>Fillings</th>\n      <th>Meat:filling</th>\n      <th>Uniformity</th>\n      <th>Salsa</th>\n      <th>Synergy</th>\n      <th>Wrap</th>\n      <th>Unreliable</th>\n      <th>NonSD</th>\n      <th>Beef</th>\n      <th>Pico</th>\n      <th>Guac</th>\n      <th>Cheese</th>\n      <th>Fries</th>\n      <th>Sour cream</th>\n      <th>Pork</th>\n      <th>Chicken</th>\n      <th>Shrimp</th>\n      <th>Fish</th>\n      <th>Rice</th>\n      <th>Beans</th>\n      <th>Lettuce</th>\n      <th>Tomato</th>\n      <th>Bell peper</th>\n      <th>Carrots</th>\n      <th>Cabbage</th>\n      <th>Sauce</th>\n      <th>Salsa.1</th>\n      <th>Cilantro</th>\n      <th>Onion</th>\n      <th>Taquito</th>\n      <th>Pineapple</th>\n      <th>Ham</th>\n      <th>Chile relleno</th>\n      <th>Nopales</th>\n      <th>Lobster</th>\n      <th>Egg</th>\n      <th>Mushroom</th>\n      <th>Bacon</th>\n      <th>Sushi</th>\n      <th>Avocado</th>\n      <th>Corn</th>\n      <th>Zucchini</th>\n      <th>great</th>\n    </tr>\n    <tr>\n      <th>Date</th>\n      <th></th>\n      <th></th>\n      <th></th>\n      <th></th>\n      <th></th>\n      <th></th>\n      <th></th>\n      <th></th>\n      <th></th>\n      <th></th>\n      <th></th>\n      <th></th>\n      <th></th>\n      <th></th>\n      <th></th>\n      <th></th>\n      <th></th>\n      <th></th>\n      <th></th>\n      <th></th>\n      <th></th>\n      <th></th>\n      <th></th>\n      <th></th>\n      <th></th>\n      <th></th>\n      <th></th>\n      <th></th>\n      <th></th>\n      <th></th>\n      <th></th>\n      <th></th>\n      <th></th>\n      <th></th>\n      <th></th>\n      <th></th>\n      <th></th>\n      <th></th>\n      <th></th>\n      <th></th>\n      <th></th>\n      <th></th>\n      <th></th>\n      <th></th>\n      <th></th>\n      <th></th>\n      <th></th>\n      <th></th>\n    </tr>\n  </thead>\n  <tbody>\n    <tr>\n      <th>2016-01-18</th>\n      <td>6.49</td>\n      <td>3.0</td>\n      <td>3.0</td>\n      <td>5.0</td>\n      <td>3.0</td>\n      <td>3.5</td>\n      <td>4.0</td>\n      <td>4.0</td>\n      <td>4.0</td>\n      <td>4.0</td>\n      <td>4.0</td>\n      <td>0</td>\n      <td>0</td>\n      <td>1</td>\n      <td>1</td>\n      <td>1</td>\n      <td>1</td>\n      <td>1</td>\n      <td>0</td>\n      <td>0</td>\n      <td>0</td>\n      <td>0</td>\n      <td>0</td>\n      <td>0</td>\n      <td>0</td>\n      <td>0</td>\n      <td>0</td>\n      <td>0</td>\n      <td>0</td>\n      <td>0</td>\n      <td>0</td>\n      <td>0</td>\n      <td>0</td>\n      <td>0</td>\n      <td>0</td>\n      <td>0</td>\n      <td>0</td>\n      <td>0</td>\n      <td>0</td>\n      <td>0</td>\n      <td>0</td>\n      <td>0</td>\n      <td>0</td>\n      <td>0</td>\n      <td>0</td>\n      <td>0</td>\n      <td>0</td>\n      <td>0</td>\n    </tr>\n    <tr>\n      <th>2016-01-24</th>\n      <td>5.45</td>\n      <td>3.5</td>\n      <td>2.0</td>\n      <td>3.5</td>\n      <td>2.5</td>\n      <td>2.5</td>\n      <td>2.0</td>\n      <td>4.0</td>\n      <td>3.5</td>\n      <td>2.5</td>\n      <td>5.0</td>\n      <td>0</td>\n      <td>0</td>\n      <td>1</td>\n      <td>1</td>\n      <td>1</td>\n      <td>1</td>\n      <td>1</td>\n      <td>0</td>\n      <td>0</td>\n      <td>0</td>\n      <td>0</td>\n      <td>0</td>\n      <td>0</td>\n      <td>0</td>\n      <td>0</td>\n      <td>0</td>\n      <td>0</td>\n      <td>0</td>\n      <td>0</td>\n      <td>0</td>\n      <td>0</td>\n      <td>0</td>\n      <td>0</td>\n      <td>0</td>\n      <td>0</td>\n      <td>0</td>\n      <td>0</td>\n      <td>0</td>\n      <td>0</td>\n      <td>0</td>\n      <td>0</td>\n      <td>0</td>\n      <td>0</td>\n      <td>0</td>\n      <td>0</td>\n      <td>0</td>\n      <td>0</td>\n    </tr>\n    <tr>\n      <th>2016-01-24</th>\n      <td>4.85</td>\n      <td>1.5</td>\n      <td>3.0</td>\n      <td>2.0</td>\n      <td>2.5</td>\n      <td>3.0</td>\n      <td>4.5</td>\n      <td>4.0</td>\n      <td>3.0</td>\n      <td>3.0</td>\n      <td>5.0</td>\n      <td>0</td>\n      <td>0</td>\n      <td>0</td>\n      <td>1</td>\n      <td>1</td>\n      <td>0</td>\n      <td>0</td>\n      <td>0</td>\n      <td>1</td>\n      <td>0</td>\n      <td>0</td>\n      <td>0</td>\n      <td>0</td>\n      <td>0</td>\n      <td>0</td>\n      <td>0</td>\n      <td>0</td>\n      <td>0</td>\n      <td>0</td>\n      <td>0</td>\n      <td>0</td>\n      <td>0</td>\n      <td>0</td>\n      <td>0</td>\n      <td>0</td>\n      <td>0</td>\n      <td>0</td>\n      <td>0</td>\n      <td>0</td>\n      <td>0</td>\n      <td>0</td>\n      <td>0</td>\n      <td>0</td>\n      <td>0</td>\n      <td>0</td>\n      <td>0</td>\n      <td>0</td>\n    </tr>\n    <tr>\n      <th>2016-01-24</th>\n      <td>5.25</td>\n      <td>2.0</td>\n      <td>3.0</td>\n      <td>2.0</td>\n      <td>3.5</td>\n      <td>3.0</td>\n      <td>4.0</td>\n      <td>5.0</td>\n      <td>4.0</td>\n      <td>4.0</td>\n      <td>5.0</td>\n      <td>0</td>\n      <td>0</td>\n      <td>1</td>\n      <td>1</td>\n      <td>1</td>\n      <td>0</td>\n      <td>0</td>\n      <td>0</td>\n      <td>0</td>\n      <td>0</td>\n      <td>0</td>\n      <td>0</td>\n      <td>0</td>\n      <td>0</td>\n      <td>0</td>\n      <td>0</td>\n      <td>0</td>\n      <td>0</td>\n      <td>0</td>\n      <td>0</td>\n      <td>0</td>\n      <td>0</td>\n      <td>0</td>\n      <td>0</td>\n      <td>0</td>\n      <td>0</td>\n      <td>0</td>\n      <td>0</td>\n      <td>0</td>\n      <td>0</td>\n      <td>0</td>\n      <td>0</td>\n      <td>0</td>\n      <td>0</td>\n      <td>0</td>\n      <td>0</td>\n      <td>0</td>\n    </tr>\n    <tr>\n      <th>2016-01-27</th>\n      <td>6.59</td>\n      <td>4.0</td>\n      <td>4.0</td>\n      <td>5.0</td>\n      <td>4.0</td>\n      <td>3.5</td>\n      <td>4.5</td>\n      <td>5.0</td>\n      <td>2.5</td>\n      <td>4.5</td>\n      <td>4.0</td>\n      <td>0</td>\n      <td>0</td>\n      <td>1</td>\n      <td>1</td>\n      <td>0</td>\n      <td>1</td>\n      <td>1</td>\n      <td>0</td>\n      <td>0</td>\n      <td>0</td>\n      <td>0</td>\n      <td>0</td>\n      <td>0</td>\n      <td>0</td>\n      <td>0</td>\n      <td>0</td>\n      <td>0</td>\n      <td>0</td>\n      <td>0</td>\n      <td>0</td>\n      <td>0</td>\n      <td>0</td>\n      <td>0</td>\n      <td>0</td>\n      <td>0</td>\n      <td>0</td>\n      <td>0</td>\n      <td>0</td>\n      <td>0</td>\n      <td>0</td>\n      <td>0</td>\n      <td>0</td>\n      <td>0</td>\n      <td>0</td>\n      <td>0</td>\n      <td>0</td>\n      <td>1</td>\n    </tr>\n  </tbody>\n</table>\n</div>"
          },
          "execution_count": 8,
          "metadata": {},
          "output_type": "execute_result"
        }
      ]
    },
    {
      "cell_type": "markdown",
      "metadata": {
        "id": "f8rbc3w4va6z"
      },
      "source": [
        "# II. Split Data"
      ]
    },
    {
      "cell_type": "code",
      "metadata": {
        "id": "Jl1Lpcz1va6z"
      },
      "source": [
        "target = ...\n",
        "y = df[target]\n",
        "X = df.drop(target, axis=1)"
      ],
      "execution_count": null,
      "outputs": []
    },
    {
      "cell_type": "code",
      "source": [
        "y.value_counts(normalize=True).plot(kind='bar')"
      ],
      "metadata": {
        "id": "uo9ClwwFeD45"
      },
      "execution_count": null,
      "outputs": []
    },
    {
      "cell_type": "code",
      "source": [],
      "metadata": {
        "id": "jzOG1xEKeD0Y"
      },
      "execution_count": null,
      "outputs": []
    },
    {
      "cell_type": "code",
      "source": [],
      "metadata": {
        "id": "s4WvxEQQeLAS"
      },
      "execution_count": null,
      "outputs": []
    },
    {
      "cell_type": "code",
      "source": [
        "# Training\n",
        "train_mask = ...\n",
        "X_train, y_train = X.loc[train_mask], y.loc[train_mask]\n",
        "\n",
        "# Validation\n",
        "validation_mask = ...\n",
        "X_val, y_val = X.loc[validation_mask], y.loc[validation_mask]\n",
        "\n",
        "# Testing\n",
        "test_mask = ...\n",
        "X_test, y_test = X.loc[test_mask], y.loc[test_mask]"
      ],
      "metadata": {
        "id": "7bhMI4L0eK9K"
      },
      "execution_count": null,
      "outputs": []
    },
    {
      "cell_type": "markdown",
      "metadata": {
        "id": "prtl34EAva60"
      },
      "source": [
        "# III. Establish Baseline"
      ]
    },
    {
      "cell_type": "code",
      "metadata": {
        "id": "0eiKgO3ova61"
      },
      "source": [
        "print('Baseline accuracy:', y_train.value_counts(normalize=True).max())"
      ],
      "execution_count": null,
      "outputs": []
    },
    {
      "cell_type": "markdown",
      "metadata": {
        "id": "OqGoXIPEva61"
      },
      "source": [
        "# IV. Build Model"
      ]
    },
    {
      "cell_type": "code",
      "source": [
        "# Model 1: Logistic Regression\n",
        "\n",
        "model_lr = make_pipeline(\n",
        "    SimpleImputer(),\n",
        "    StandardScaler(),\n",
        "    LogisticRegression()\n",
        ")\n",
        "\n",
        "model_lr.fit(X_train, y_train);"
      ],
      "metadata": {
        "id": "ADAlN37Kd3Wx"
      },
      "execution_count": null,
      "outputs": []
    },
    {
      "cell_type": "code",
      "source": [
        "# Model 2: Random Forest\n",
        "model_rf = make_pipeline(\n",
        "    SimpleImputer(),\n",
        "    RandomForestClassifier(n_jobs=-1)\n",
        ")\n",
        "\n",
        "model_rf.fit(X_train, y_train);"
      ],
      "metadata": {
        "id": "EDfn0lH_d3K1"
      },
      "execution_count": null,
      "outputs": []
    },
    {
      "cell_type": "markdown",
      "metadata": {
        "id": "pPfWN9ezva62"
      },
      "source": [
        "# V. Check Metrics\n",
        "\n",
        "**Accuracy**"
      ]
    },
    {
      "cell_type": "markdown",
      "source": [
        "accuracy = (tp + tn) / (tp + fp + tn + fn)"
      ],
      "metadata": {
        "id": "oOlu9-sUx-uE"
      }
    },
    {
      "cell_type": "code",
      "metadata": {
        "id": "lQg8Ey0sva63"
      },
      "source": [
        "print('Training Accuracy (LOGR):', model_lr.score(X_train, y_train))\n",
        "print('Validation Accuracy (LOGR):', model_lr.score(X_val, y_val))"
      ],
      "execution_count": null,
      "outputs": []
    },
    {
      "cell_type": "code",
      "metadata": {
        "id": "bJeP3RHAva62"
      },
      "source": [
        "print('Training Accuracy (RF):', model_rf.score(X_train, y_train))\n",
        "print('Validation Accuracy (RF):', model_rf.score(X_val, y_val))"
      ],
      "execution_count": null,
      "outputs": []
    },
    {
      "cell_type": "markdown",
      "metadata": {
        "id": "C6CeKOr1va63"
      },
      "source": [
        "**Precision, Recall, F1**"
      ]
    },
    {
      "cell_type": "markdown",
      "source": [
        "precision = tp / (tp + fp)\n",
        "\n",
        "\n",
        "recall = tp / (tp + fn)"
      ],
      "metadata": {
        "id": "pebzRbKmDAg4"
      }
    },
    {
      "cell_type": "code",
      "source": [
        "print('Logistic Regression')\n",
        "print(classification_report(..., ...))\n",
        "plot_confusion_matrix(..., ..., ...)"
      ],
      "metadata": {
        "id": "TOkMtLBidZ3o"
      },
      "execution_count": null,
      "outputs": []
    },
    {
      "cell_type": "code",
      "source": [
        "print('Random Forest')\n",
        "print(classification_report(..., ...))\n",
        "plot_confusion_matrix(..., ..., ...)"
      ],
      "metadata": {
        "id": "uvfPDjTWdZyO"
      },
      "execution_count": null,
      "outputs": []
    },
    {
      "cell_type": "code",
      "source": [],
      "metadata": {
        "id": "6f7u0xK9dZmR"
      },
      "execution_count": null,
      "outputs": []
    },
    {
      "cell_type": "code",
      "source": [],
      "metadata": {
        "id": "E7lRwkUEdZiG"
      },
      "execution_count": null,
      "outputs": []
    },
    {
      "cell_type": "markdown",
      "metadata": {
        "id": "yEjKr5Clva64"
      },
      "source": [
        "**ROC curve**\n"
      ]
    },
    {
      "cell_type": "code",
      "metadata": {
        "id": "6ElkFY5SkvJr"
      },
      "source": [],
      "execution_count": null,
      "outputs": []
    },
    {
      "cell_type": "code",
      "source": [],
      "metadata": {
        "id": "I5BbPp7F56wW"
      },
      "execution_count": null,
      "outputs": []
    },
    {
      "cell_type": "code",
      "source": [
        "# Get predicted probabilities from model\n",
        "y_pred_prob = model_rf.predict_proba(X_val)[:, -1]\n",
        "\n",
        "# Input true labels and probability predictions\n",
        "fpr, tpr, thresholds = ...\n",
        "\n",
        "# Put data into dictionary\n",
        "data = {'false_pos_rate': fpr,\n",
        "        'true_pos_rate': tpr,\n",
        "        'thresholds': thresholds}\n",
        "\n",
        "pd.DataFrame(data)"
      ],
      "metadata": {
        "id": "qA5mJEsMdQRW"
      },
      "execution_count": null,
      "outputs": []
    },
    {
      "cell_type": "markdown",
      "metadata": {
        "id": "tC6MqtN90A0x"
      },
      "source": [
        "## Demonstrating how changing the threshold (from roc-auc curve) changes the metrics"
      ]
    },
    {
      "cell_type": "code",
      "metadata": {
        "id": "FYGOfQF-yedm"
      },
      "source": [
        "y_pred_prob[y_pred_prob >= 0.61] = 1\n",
        "y_pred_prob[y_pred_prob < 0.61] = 0"
      ],
      "execution_count": null,
      "outputs": []
    },
    {
      "cell_type": "code",
      "metadata": {
        "id": "A6Pitfgzy_iN"
      },
      "source": [
        "from sklearn.metrics import accuracy_score\n",
        "\n",
        "print('Validation Accuracy (RF):', accuracy_score(y_val, y_pred_prob))"
      ],
      "execution_count": null,
      "outputs": []
    },
    {
      "cell_type": "code",
      "metadata": {
        "id": "FFMmvFc4lZqc"
      },
      "source": [
        "print(classification_report(y_val, model_rf.predict(X_val)))\n",
        "plot_confusion_matrix(model_rf, X_val, y_pred_prob);"
      ],
      "execution_count": null,
      "outputs": []
    },
    {
      "cell_type": "markdown",
      "metadata": {
        "id": "EklA_4VYP31G"
      },
      "source": [
        "## Regression Example\n",
        "\n",
        "What if we were predicting the cost of a burrito?\n"
      ]
    },
    {
      "cell_type": "code",
      "metadata": {
        "id": "tl7mWeTTp8L_"
      },
      "source": [
        "# target = 'Cost'\n",
        "# y = df[target]\n",
        "# X = df.drop(columns=target)"
      ],
      "execution_count": null,
      "outputs": []
    },
    {
      "cell_type": "code",
      "metadata": {
        "id": "Rn5ulfovTZJN"
      },
      "source": [
        "# df['Cost'].hist(bins=20) # to check for target skewness"
      ],
      "execution_count": null,
      "outputs": []
    },
    {
      "cell_type": "code",
      "metadata": {
        "id": "lpHSPMQzQWPC"
      },
      "source": [
        "# Radomized Train Test Split\n",
        "# from sklearn.model_selection import train_test_split\n",
        "# X_train, X_val, y_train, y_val = train_test_split(X, y, test_size=0.33, random_state=42)"
      ],
      "execution_count": null,
      "outputs": []
    },
    {
      "cell_type": "code",
      "source": [
        "# from sklearn.metrics import mean_absolute_error\n",
        "# baseline_pred = [y_val.mean()] * len(y_val)\n",
        "# mean_absolute_error(y_val, baseline_pred)"
      ],
      "metadata": {
        "id": "5ZJ-dAk9XgBg"
      },
      "execution_count": null,
      "outputs": []
    },
    {
      "cell_type": "code",
      "metadata": {
        "id": "FLYuAc8tQdzB"
      },
      "source": [
        "\n",
        "# model_lr = make_pipeline(SimpleImputer(),\n",
        "#                       StandardScaler(),\n",
        "#                       LinearRegression())\n",
        "\n",
        "# model_lr.fit(X_train, y_train)"
      ],
      "execution_count": null,
      "outputs": []
    },
    {
      "cell_type": "code",
      "metadata": {
        "id": "5nfkcZKqSYEq"
      },
      "source": [
        "\n",
        "# model_rf = make_pipeline(SimpleImputer(),\n",
        "#                       RandomForestRegressor())\n",
        "\n",
        "# model_rf.fit(X_train, y_train)"
      ],
      "execution_count": null,
      "outputs": []
    },
    {
      "cell_type": "code",
      "metadata": {
        "id": "fC8GHIe4SYmd"
      },
      "source": [
        "# print(\"Training Accuracy - Linear Regression\", mean_absolute_error(y_train, model_lr.predict(X_train)))\n",
        "# print(\"Validation Accuracy - Linear Regression\", mean_absolute_error(y_val, model_lr.predict(X_val)))"
      ],
      "execution_count": null,
      "outputs": []
    },
    {
      "cell_type": "code",
      "metadata": {
        "id": "z9czTvuKS5Hs"
      },
      "source": [
        "# print(\"Training Accuracy - Random Forest\", mean_absolute_error(y_train, model_rf.predict(X_train)))\n",
        "# print(\"Validation Accuracy - Random Forest\", mean_absolute_error(y_val, model_rf.predict(X_val)))"
      ],
      "execution_count": null,
      "outputs": []
    },
    {
      "cell_type": "markdown",
      "source": [
        "# Log Transformation of skewed Target (for regression)"
      ],
      "metadata": {
        "id": "YhRJzCrYVxmw"
      }
    },
    {
      "cell_type": "code",
      "source": [
        "# The chosen target for the above example (burrito cost) is not skewed. But if your regression target is skewed, then you should log transform it, using the following steps:\n",
        "\n",
        "# log transform your target (training set)\n",
        "# y_train_log = np.log1p(y_train)\n",
        "\n",
        "# fit your chosen model to this log tranformed target\n",
        "# model.fit(X_train, y_train_log)\n",
        "\n",
        "# get your predictions for this log tranformed target\n",
        "# y_pred_log = model.predict(X_val)\n",
        "\n",
        "# reverse log tranform your log tranformed target\n",
        "# y_pred = np.expm1(y_pred_log)\n",
        "\n",
        "# check your metrics\n",
        "# print(mean_absolute_error(y_val, y_pred))\n"
      ],
      "metadata": {
        "id": "yyGNUcC9N0cO"
      },
      "execution_count": null,
      "outputs": []
    },
    {
      "cell_type": "markdown",
      "source": [
        "# Sampling of imbalance data (using .sample function)"
      ],
      "metadata": {
        "id": "b78kDMWtWJZC"
      }
    },
    {
      "cell_type": "markdown",
      "source": [
        "This is just one way to over or under sample. Go over these links and read how to implement SMOTE(Synthetic Minority Oversampling Technique) technique too, where you create synthetic observations of the minority class!\n",
        "\n",
        "* https://imbalanced-learn.org/dev/references/generated/imblearn.over_sampling.SMOTE.html\n",
        "* https://www.section.io/engineering-education/imbalanced-data-in-ml/"
      ],
      "metadata": {
        "id": "E8joZRzE4EWW"
      }
    },
    {
      "cell_type": "code",
      "metadata": {
        "id": "jWkWFeDxWNoJ"
      },
      "source": [
        "# # Sampling of imbalance data (using .sample function)\n",
        "\n",
        "# # If train_minority contains only those rows in your training dataset that correspond to minority class, you can oversample like this.\n",
        "# # When you over sample your minority class, you always have to sample with replacement\n",
        "\n",
        "# num_minority_samples = 10 # number of additional minority class rows to create.\n",
        "# train_minority_sample = train_minority.sample(num_minority_samples,replace = True)\n",
        "\n",
        "\n",
        "# # If train_majority contains only those rows in your dataset that correspond to majority class, you can undersample like this.\n",
        "# # Under sampling doesnt need with replacement\n",
        "# num_majority_samples = 10 # number of majority class rows to remove.\n",
        "# train_majority_sample = train_majority.sample(num_majority_samples,replace=False)\n",
        "\n",
        "# # You can then append the two dataframes to form a final train df.\n",
        "# train_final = train_minority_sample.append(train_majority_sample, ignore_index=True)\n"
      ],
      "execution_count": null,
      "outputs": []
    }
  ]
}