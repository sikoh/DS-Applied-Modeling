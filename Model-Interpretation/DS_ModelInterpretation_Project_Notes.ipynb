{
  "nbformat": 4,
  "nbformat_minor": 0,
  "metadata": {
    "kernelspec": {
      "display_name": "Python 3",
      "language": "python",
      "name": "python3"
    },
    "language_info": {
      "codemirror_mode": {
        "name": "ipython",
        "version": 3
      },
      "file_extension": ".py",
      "mimetype": "text/x-python",
      "name": "python",
      "nbconvert_exporter": "python",
      "pygments_lexer": "ipython3",
      "version": "3.8.5"
    },
    "colab": {
      "provenance": []
    }
  },
  "cells": [
    {
      "cell_type": "markdown",
      "metadata": {
        "id": "y2EGB5vhoZiS"
      },
      "source": [
        "# Model Interpretation\n",
        "\n",
        "- Visualize and interpret **partial dependence plots**\n",
        "- Explain individual predictions with **shapley value plots**\n"
      ]
    },
    {
      "cell_type": "code",
      "execution_count": null,
      "outputs": [],
      "source": [
        "!pip install category_encoders\n",
        "!pip install pdpbox\n",
        "!pip install shap"
      ],
      "metadata": {
        "id": "GQnuHCGMjFBi"
      }
    },
    {
      "cell_type": "code",
      "metadata": {
        "id": "T3V1jRggbkuY",
        "ExecuteTime": {
          "end_time": "2023-07-10T14:16:22.980453Z",
          "start_time": "2023-07-10T14:16:22.971087Z"
        }
      },
      "source": [
        "import pandas as pd\n",
        "from sklearn.linear_model import Ridge,LinearRegression\n",
        "from sklearn.ensemble import RandomForestRegressor\n",
        "from xgboost import XGBRegressor\n",
        "from sklearn.metrics import mean_absolute_error, r2_score\n",
        "import matplotlib.pyplot as plt\n",
        "from pdpbox.pdp import PDPIsolate, PDPInteract\n",
        "from pdpbox.info_plots import TargetPlot, InteractTargetPlot\n",
        "import shap\n",
        "import warnings"
      ],
      "execution_count": null,
      "outputs": []
    },
    {
      "cell_type": "code",
      "execution_count": null,
      "outputs": [],
      "source": [
        "pdp_isolate = PDPIsolate\n",
        "pdp_plot = TargetPlot\n",
        "pdp_interact = PDPInteract\n",
        "pdp_interact_plot = InteractTargetPlot"
      ],
      "metadata": {
        "ExecuteTime": {
          "end_time": "2023-07-10T14:16:23.926700Z",
          "start_time": "2023-07-10T14:16:23.915349Z"
        },
        "id": "mYR4At5SjFBk"
      }
    },
    {
      "cell_type": "code",
      "metadata": {
        "id": "AzEg4J_hbrus"
      },
      "source": [
        "warnings.filterwarnings(action='ignore', category=FutureWarning, module='xgboost')"
      ],
      "execution_count": null,
      "outputs": []
    },
    {
      "cell_type": "code",
      "source": [
        "pd.set_option('display.max_columns', 500)"
      ],
      "metadata": {
        "id": "cz0Pu25LJ3vr"
      },
      "execution_count": null,
      "outputs": []
    },
    {
      "cell_type": "markdown",
      "metadata": {
        "id": "a7QmTDMibg-T"
      },
      "source": [
        "# I. Wrangle Data"
      ]
    },
    {
      "cell_type": "code",
      "execution_count": null,
      "outputs": [],
      "source": [
        "DATA_PATH = 'https://raw.githubusercontent.com/bloominstituteoftechnology/DS-Unit-2-Applied-Modeling/master/data/'\n"
      ],
      "metadata": {
        "id": "0XEe7-7ujFBl"
      }
    },
    {
      "cell_type": "code",
      "metadata": {
        "id": "JQPNZdtTXlye"
      },
      "source": [
        "def wrangle(filepath):\n",
        "\n",
        "  df = pd.read_csv(filepath)\n",
        "\n",
        "  # Set issue date to index\n",
        "\n",
        "  # subset data to 36-month loans\n",
        "\n",
        "\n",
        "  # Turn `'int_rate'` col into float\n",
        "\n",
        "\n",
        "\n",
        "  # Consolidate and OHE loan purpose (`'title'`)\n",
        "\n",
        "\n",
        "\n",
        "  # keywords = ['business', 'consolidation|credit', 'home', 'car|vacation|medical|moving']\n",
        "\n",
        "\n",
        "\n",
        "  # columns_to_keep = keywords + ['annual_inc','funded_amnt','int_rate','fico_range_high']\n",
        "  # df = df[columns_to_keep]\n",
        "\n",
        "  # Rename columns\n",
        "  # df.rename(columns={'annual_inc': 'annual_income',\n",
        "  #                   'business': 'purpose_business',\n",
        "  #                   'car|vacation|medical|moving': 'purpose_major_purchase',\n",
        "  #                   'consolidation|credit': 'purpose_consolidation',\n",
        "  #                   'fico_range_high': 'credit_score',\n",
        "  #                   'funded_amnt': 'loan_amount',\n",
        "  #                   'home': 'purpose_home_purchase',\n",
        "  #                   'int_rate': 'interest_rate'}, inplace=True)\n",
        "  return df\n",
        "\n",
        "df = wrangle(DATA_PATH+'lending-club/lending-club-subset.csv')"
      ],
      "execution_count": null,
      "outputs": []
    },
    {
      "cell_type": "markdown",
      "metadata": {
        "id": "ayCEM4ZAoZie"
      },
      "source": [
        "# II. Split Data"
      ]
    },
    {
      "cell_type": "code",
      "source": [
        "# Split our data in feature matrix and target vector\n",
        "target = 'interest_rate'\n",
        "X = df.drop(columns=target)\n",
        "y = df[target]\n"
      ],
      "metadata": {
        "id": "P6ODJcGu7c9i"
      },
      "execution_count": null,
      "outputs": []
    },
    {
      "cell_type": "code",
      "source": [
        "# Split data into training, validation, test sets\n",
        "# Because this is datetime data, we'll do a cutoff\n",
        "# sort_index is the key here! take tail as test data!\n",
        "\n",
        "# numpy array slicing syntax\n",
        "\n"
      ],
      "metadata": {
        "id": "GwYIgcAw69H6"
      },
      "execution_count": null,
      "outputs": []
    },
    {
      "cell_type": "markdown",
      "metadata": {
        "id": "gqrH6lRSoZif"
      },
      "source": [
        "# III. Establish Baseline"
      ]
    },
    {
      "cell_type": "code",
      "source": [
        "print('Mean interest rate:', y_train.mean())\n",
        "\n",
        "y_pred = [y_train.mean()] * len(y_train)\n",
        "print('Baseline MAE:', mean_absolute_error(y_train, y_pred))"
      ],
      "metadata": {
        "id": "ZrikGbdu7hkR"
      },
      "execution_count": null,
      "outputs": []
    },
    {
      "cell_type": "markdown",
      "metadata": {
        "id": "2abFXVsboZig"
      },
      "source": [
        "# IV. Build Model"
      ]
    },
    {
      "cell_type": "code",
      "source": [
        "# not using any pipelines\n",
        "\n",
        "model_lr = LinearRegression()\n",
        "model_r = Ridge()\n",
        "model_rf = RandomForestRegressor(random_state=42, n_jobs=-1)\n",
        "model_xgb = XGBRegressor(random_state=42, n_jobs=-1)"
      ],
      "metadata": {
        "id": "9MWu-_5D7Hqp"
      },
      "execution_count": null,
      "outputs": []
    },
    {
      "cell_type": "code",
      "source": [
        "model_lr.fit(X_train, y_train)\n",
        "model_r.fit(X_train, y_train)\n",
        "model_rf.fit(X_train, y_train)\n",
        "model_xgb.fit(X_train, y_train)"
      ],
      "metadata": {
        "id": "_0h0GJnP7HR7"
      },
      "execution_count": null,
      "outputs": []
    },
    {
      "cell_type": "markdown",
      "metadata": {
        "id": "-LTSYPUboZig"
      },
      "source": [
        "# V. Check Metrics"
      ]
    },
    {
      "cell_type": "code",
      "source": [
        "def check_metrics(model):\n",
        "  print('Training MAE:', mean_absolute_error(y_train, model.predict(X_train)))\n",
        "  print('Validation MAE:', mean_absolute_error(y_val, model.predict(X_val)))\n",
        "  print('Validation R^2:', model.score(X_val, y_val))\n",
        "  print()\n",
        "  print()\n",
        "\n",
        "models = [model_lr, model_r, model_rf, model_xgb]\n",
        "\n",
        "for m in models:\n",
        "  check_metrics(m)"
      ],
      "metadata": {
        "id": "SBnUEWBf7MwK"
      },
      "execution_count": null,
      "outputs": []
    },
    {
      "cell_type": "markdown",
      "metadata": {
        "id": "waBHeyreoZih"
      },
      "source": [
        "# VI. Communicate Results"
      ]
    },
    {
      "cell_type": "code",
      "source": [
        "coefficients =\n",
        "coef = pd.DataFrame(data=coefficients, index=X_train.columns,columns=['coefficients'])\n",
        "coef['coefficients'].sort_values().plot(kind='barh')\n",
        "plt.title('Linear Regression Coefficients')\n",
        "plt.show()"
      ],
      "metadata": {
        "id": "T_jKQIe0bSGi"
      },
      "execution_count": null,
      "outputs": []
    },
    {
      "cell_type": "code",
      "source": [
        "importances =\n",
        "imp = pd.DataFrame(data=importances, index=X_train.columns, columns=['coefficients'])\n",
        "imp['coefficients'].sort_values().plot(kind='barh')\n",
        "plt.title('XGBoost Feature Importances')\n",
        "plt.show()"
      ],
      "metadata": {
        "id": "p9Skt3KUbR-a"
      },
      "execution_count": null,
      "outputs": []
    },
    {
      "cell_type": "code",
      "source": [
        "from sklearn.tree import plot_tree\n",
        "\n",
        "plt.figure(figsize=(60,15))\n",
        "\n",
        "plot_tree(\n",
        "\n",
        "     max_depth=2,\n",
        "     feature_names=X_train.columns,\n",
        "     filled=True\n",
        ");"
      ],
      "metadata": {
        "id": "YtG_r6NoPVYM"
      },
      "execution_count": null,
      "outputs": []
    },
    {
      "cell_type": "markdown",
      "source": [
        "## Partial Dependence Plots\n",
        "\n",
        "One Feature"
      ],
      "metadata": {
        "id": "sWAJrgt6bPjS"
      }
    },
    {
      "cell_type": "code",
      "source": [
        "# select one feature"
      ],
      "metadata": {
        "id": "ANwXpDR9jeNB"
      },
      "execution_count": null,
      "outputs": []
    },
    {
      "cell_type": "code",
      "source": [
        "# create an instance of PDP Isolate."
      ],
      "metadata": {
        "id": "f4HPtLSOjeDp"
      },
      "execution_count": null,
      "outputs": []
    },
    {
      "cell_type": "markdown",
      "metadata": {
        "id": "YqYmdAEPoZii"
      },
      "source": [
        "Two features"
      ]
    },
    {
      "cell_type": "code",
      "source": [
        "# select two features"
      ],
      "metadata": {
        "id": "d3Y7mlkLjfPL"
      },
      "execution_count": null,
      "outputs": []
    },
    {
      "cell_type": "code",
      "source": [
        "# create an instance of PDP Interact.\n"
      ],
      "metadata": {
        "id": "N1Bcs81bjfKh"
      },
      "execution_count": null,
      "outputs": []
    },
    {
      "cell_type": "markdown",
      "metadata": {
        "id": "WZL2FvK5oZii"
      },
      "source": [
        "## Shapley Plots"
      ]
    },
    {
      "cell_type": "code",
      "source": [
        "#select one sample/observation"
      ],
      "metadata": {
        "id": "qXFMJCQsliNh"
      },
      "execution_count": null,
      "outputs": []
    },
    {
      "cell_type": "code",
      "source": [
        "# Shapley Force Plot\n",
        "# This may not work well in local notebooks\n",
        "# you may need to install ipywidgets\n",
        "\n",
        "#initialization of java script\n",
        "\n"
      ],
      "metadata": {
        "id": "Da8rNcHdlila"
      },
      "execution_count": null,
      "outputs": []
    },
    {
      "cell_type": "code",
      "source": [],
      "metadata": {
        "id": "6ji7o-Uoliip",
        "ExecuteTime": {
          "end_time": "2023-07-10T13:59:30.172778Z",
          "start_time": "2023-07-10T13:59:08.778478Z"
        }
      },
      "execution_count": null,
      "outputs": []
    },
    {
      "cell_type": "code",
      "source": [],
      "metadata": {
        "id": "s_cuCmr9liRS"
      },
      "execution_count": null,
      "outputs": []
    }
  ]
}