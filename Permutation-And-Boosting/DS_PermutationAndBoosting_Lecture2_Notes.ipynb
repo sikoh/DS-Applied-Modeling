{
  "nbformat": 4,
  "nbformat_minor": 0,
  "metadata": {
    "kernelspec": {
      "display_name": "Python 3",
      "language": "python",
      "name": "python3"
    },
    "language_info": {
      "codemirror_mode": {
        "name": "ipython",
        "version": 3
      },
      "file_extension": ".py",
      "mimetype": "text/x-python",
      "name": "python",
      "nbconvert_exporter": "python",
      "pygments_lexer": "ipython3",
      "version": "3.8.2"
    },
    "colab": {
      "provenance": []
    }
  },
  "cells": [
    {
      "cell_type": "markdown",
      "metadata": {
        "id": "-hTictxWYih7"
      },
      "source": [
        "# Permutation & Boosting\n",
        "\n",
        "- Get **permutation importances** for model interpretation and feature selection\n",
        "- Use xgboost for **gradient boosting**"
      ]
    },
    {
      "cell_type": "markdown",
      "metadata": {
        "id": "wMejJg0w8v76"
      },
      "source": [
        "### Setup\n",
        "\n",
        "Run the code cell below. You can work locally (follow the [local setup instructions](https://lambdaschool.github.io/ds/unit2/local/)) or on Colab.\n",
        "\n",
        "Libraries:\n",
        "\n",
        "- category_encoders\n",
        "- matplotlib\n",
        "- numpy\n",
        "- pandas\n",
        "- scikit-learn\n",
        "- [**xgboost**](https://xgboost.readthedocs.io/en/latest/)"
      ]
    },
    {
      "cell_type": "markdown",
      "metadata": {
        "id": "sUmaaCmCprYw"
      },
      "source": [
        "# Downloading the Tanzania Waterpump Dataset"
      ]
    },
    {
      "cell_type": "markdown",
      "metadata": {
        "id": "jkdEatMkUKa1"
      },
      "source": [
        "<font color=green> Make sure  you only use the dataset that is available through the **DS33** **Kaggle Competition**. DO NOT USE any other Tanzania waterpump datasets that you might find online.**DO NOT USE THE GITHUB LINK given in the assignemnts.**\n",
        "\n",
        "<font color=purple> There are two ways you can get the dataset. Make sure you have joined the competition first!:\n",
        "\n",
        "1. <font color=purple> You can download the dataset directly by accessing the challenge and the files through this URL (make sure you have joined the competition!)\n",
        "\n",
        "> https://www.kaggle.com/t/75a529de05884eb8af9789c2b064333a\n",
        "\n",
        "2. Use the Kaggle API as I have done using the code in the following cells. This article provides helpful information on how to fetch your Kaggle Dataset into Google Colab using the Kaggle API.\n",
        "\n",
        "> https://medium.com/analytics-vidhya/how-to-fetch-kaggle-datasets-into-google-colab-ea682569851a"
      ]
    },
    {
      "cell_type": "markdown",
      "metadata": {
        "id": "d6TZ5nDFYkCa"
      },
      "source": [
        "# Using Kaggle API to download datset"
      ]
    },
    {
      "cell_type": "code",
      "metadata": {
        "colab": {
          "base_uri": "https://localhost:8080/"
        },
        "id": "X2e6fPUATxLZ",
        "outputId": "d5422c4d-a794-470d-f610-d4028251e2bb"
      },
      "source": [
        "# mounting your google drive on colab\n",
        "from google.colab import drive\n",
        "drive.mount('/content/gdrive')"
      ],
      "execution_count": null,
      "outputs": [
        {
          "output_type": "stream",
          "name": "stdout",
          "text": [
            "Mounted at /content/gdrive\n"
          ]
        }
      ]
    },
    {
      "cell_type": "code",
      "metadata": {
        "colab": {
          "base_uri": "https://localhost:8080/"
        },
        "id": "KYSpUv9uYBAo",
        "outputId": "3652fbb1-0b13-4db6-aecf-493e7a9bd687"
      },
      "source": [
        "#change your working directory, if you want to or have already saved your kaggle dataset on google drive.\n",
        "%cd /content/gdrive/My Drive/Kaggle\n",
        "# update it to your folder location on drive that contians the dataset and/or kaggle API token json file."
      ],
      "execution_count": null,
      "outputs": [
        {
          "output_type": "stream",
          "name": "stdout",
          "text": [
            "/content/gdrive/My Drive/Kaggle\n"
          ]
        }
      ]
    },
    {
      "cell_type": "code",
      "metadata": {
        "id": "dXChvgdZYb_t"
      },
      "source": [
        "# Download your Kaggle Dataset, if you haven't already done so.\n",
        "# import os\n",
        "# os.environ['KAGGLE_CONFIG_DIR'] = \"/content/gdrive/My Drive/Kaggle\"\n",
        "# !kaggle competitions download -c ds33-water-pump-challenge"
      ],
      "execution_count": null,
      "outputs": []
    },
    {
      "cell_type": "code",
      "metadata": {
        "id": "NB84qgRRYdDF"
      },
      "source": [
        "# Unzip your Kaggle dataset, if you haven't already done so.\n",
        "# !unzip \\*.zip  && rm *.zip"
      ],
      "execution_count": null,
      "outputs": []
    },
    {
      "cell_type": "code",
      "metadata": {
        "colab": {
          "base_uri": "https://localhost:8080/"
        },
        "id": "eag2zYiQYf6q",
        "outputId": "7cda2169-aa6e-42ad-d098-2ab6105fd547"
      },
      "source": [
        "# List all files in your Kaggle folder on your google drive.\n",
        "!ls"
      ],
      "execution_count": null,
      "outputs": [
        {
          "output_type": "stream",
          "name": "stdout",
          "text": [
            "kaggle.json\t    sample_submission.csv  train_features.csv\n",
            "new_submission.csv  test_features.csv\t   train_labels.csv\n"
          ]
        }
      ]
    },
    {
      "cell_type": "code",
      "metadata": {
        "id": "wXNKAp0MFnXW"
      },
      "source": [
        "%%capture\n",
        "!pip install category_encoders==2.*"
      ],
      "execution_count": null,
      "outputs": []
    },
    {
      "cell_type": "code",
      "metadata": {
        "id": "pLiyUNS0Sy-i",
        "colab": {
          "base_uri": "https://localhost:8080/"
        },
        "outputId": "8ca1e608-74ad-483e-828c-8d2909eddb9c"
      },
      "source": [
        "# data analysis and wrangling\n",
        "import pandas as pd\n",
        "import numpy as np\n",
        "\n",
        "# visualization\n",
        "import matplotlib.pyplot as plt\n",
        "%matplotlib inline\n",
        "\n",
        "from sklearn.model_selection import train_test_split\n",
        "\n",
        "# encoders\n",
        "from category_encoders import OneHotEncoder, OrdinalEncoder\n",
        "from sklearn.impute import SimpleImputer\n",
        "from sklearn.preprocessing import StandardScaler\n",
        "\n",
        "#metrics\n",
        "from sklearn.metrics import accuracy_score, precision_score, recall_score, classification_report, roc_auc_score\n",
        "\n",
        "#pipeline\n",
        "from sklearn.pipeline import make_pipeline\n",
        "\n",
        "# machine learning\n",
        "from sklearn.linear_model import LogisticRegression\n",
        "from sklearn.ensemble import RandomForestClassifier\n",
        "from sklearn.tree import DecisionTreeClassifier\n",
        "\n",
        "# Boosted Models\n",
        "from sklearn.ensemble import GradientBoostingClassifier\n",
        "from xgboost import XGBClassifier\n",
        "\n",
        "# Permutation Importance\n",
        "from sklearn.inspection import permutation_importance\n",
        "\n",
        "# for displaying images and html\n",
        "from IPython.display import Image\n",
        "from IPython.core.display import HTML"
      ],
      "execution_count": null,
      "outputs": [
        {
          "output_type": "stream",
          "name": "stderr",
          "text": [
            "/usr/local/lib/python3.7/dist-packages/statsmodels/tools/_testing.py:19: FutureWarning: pandas.util.testing is deprecated. Use the functions in the public API at pandas.testing instead.\n",
            "  import pandas.util.testing as tm\n"
          ]
        }
      ]
    },
    {
      "cell_type": "markdown",
      "metadata": {
        "id": "EfhziD2Wn_iO"
      },
      "source": [
        "# Wrangle Data"
      ]
    },
    {
      "cell_type": "markdown",
      "metadata": {
        "id": "AomWBQncSy-j"
      },
      "source": [
        "We'll go back to Tanzania Waterpumps for this lesson."
      ]
    },
    {
      "cell_type": "code",
      "metadata": {
        "id": "z-TExplb_Slf"
      },
      "source": [
        "def wrangle(fm_path, tv_path=None):\n",
        "    if tv_path:\n",
        "        df = pd.merge(pd.read_csv(fm_path, parse_dates=['date_recorded'], na_values=[-2e-08, 0]),\n",
        "                         pd.read_csv(tv_path)).set_index('date_recorded')\n",
        "\n",
        "    else:\n",
        "        df = pd.read_csv(fm_path, parse_dates=['date_recorded']).set_index('date_recorded')\n",
        "\n",
        "    # When columns have zeros and shouldn't, they are like null values.\n",
        "    # So we will replace the zeros with nulls, and impute missing values later.\n",
        "    # Also create a \"missing indicator\" column, because the fact that\n",
        "    # values are missing may be a predictive signal.\n",
        "    cols_with_zeros = ['longitude', 'latitude', 'construction_year',\n",
        "                       'gps_height', 'population']\n",
        "    for col in cols_with_zeros:\n",
        "        df[col] = df[col].replace(0, np.nan)\n",
        "        df[col+'_MISSING'] = df[col].isnull()\n",
        "\n",
        "    # Drop duplicate columns\n",
        "    duplicates = ['quantity_group', 'payment_type']\n",
        "    df = df.drop(columns=duplicates)\n",
        "\n",
        "    # Drop recorded_by (never varies) and id (always varies, random)\n",
        "    unusable_variance = ['recorded_by', 'id']\n",
        "    df = df.drop(columns=unusable_variance)\n",
        "\n",
        "    # Extract components from date_recorded, then drop the original column\n",
        "    df['year_recorded'] = df.index.year\n",
        "    df['month_recorded'] = df.index.month\n",
        "    df['day_recorded'] = df.index.day\n",
        "\n",
        "    # Engineer feature: how many years from construction_year to date_recorded\n",
        "    df['pump_age'] = df['year_recorded'] - df['construction_year']\n",
        "    df['years_MISSING'] = df['pump_age'].isnull()\n",
        "\n",
        "    # return the wrangled dataframe\n",
        "    return df"
      ],
      "execution_count": null,
      "outputs": []
    },
    {
      "cell_type": "code",
      "metadata": {
        "id": "5Ik6YLCOSy-j"
      },
      "source": [
        "fm_path = 'train_features.csv'\n",
        "tv_path = 'train_labels.csv'\n",
        "df = wrangle(fm_path, tv_path)"
      ],
      "execution_count": null,
      "outputs": []
    },
    {
      "cell_type": "code",
      "metadata": {
        "id": "BSCa9nPnSy-k"
      },
      "source": [
        "# Split data into feature and target\n",
        "target = 'status_group'\n",
        "X,y = df.drop(columns = target), df[target]"
      ],
      "execution_count": null,
      "outputs": []
    },
    {
      "cell_type": "code",
      "metadata": {
        "id": "mYLn6NLESy-k"
      },
      "source": [
        "X_train, X_val, y_train, y_val = train_test_split(X, y, train_size=0.80, test_size=0.20, random_state=42)"
      ],
      "execution_count": null,
      "outputs": []
    },
    {
      "cell_type": "code",
      "metadata": {
        "colab": {
          "base_uri": "https://localhost:8080/",
          "height": 391
        },
        "id": "HKLBR7MiLfgv",
        "outputId": "85289928-de26-47d3-cb4f-4396afb8ea9c"
      },
      "source": [
        "X_train.head()"
      ],
      "execution_count": null,
      "outputs": [
        {
          "output_type": "execute_result",
          "data": {
            "text/html": [
              "<div>\n",
              "<style scoped>\n",
              "    .dataframe tbody tr th:only-of-type {\n",
              "        vertical-align: middle;\n",
              "    }\n",
              "\n",
              "    .dataframe tbody tr th {\n",
              "        vertical-align: top;\n",
              "    }\n",
              "\n",
              "    .dataframe thead th {\n",
              "        text-align: right;\n",
              "    }\n",
              "</style>\n",
              "<table border=\"1\" class=\"dataframe\">\n",
              "  <thead>\n",
              "    <tr style=\"text-align: right;\">\n",
              "      <th></th>\n",
              "      <th>amount_tsh</th>\n",
              "      <th>funder</th>\n",
              "      <th>gps_height</th>\n",
              "      <th>installer</th>\n",
              "      <th>longitude</th>\n",
              "      <th>latitude</th>\n",
              "      <th>wpt_name</th>\n",
              "      <th>num_private</th>\n",
              "      <th>basin</th>\n",
              "      <th>subvillage</th>\n",
              "      <th>region</th>\n",
              "      <th>region_code</th>\n",
              "      <th>district_code</th>\n",
              "      <th>lga</th>\n",
              "      <th>ward</th>\n",
              "      <th>population</th>\n",
              "      <th>public_meeting</th>\n",
              "      <th>scheme_management</th>\n",
              "      <th>scheme_name</th>\n",
              "      <th>permit</th>\n",
              "      <th>construction_year</th>\n",
              "      <th>extraction_type</th>\n",
              "      <th>extraction_type_group</th>\n",
              "      <th>extraction_type_class</th>\n",
              "      <th>management</th>\n",
              "      <th>management_group</th>\n",
              "      <th>payment</th>\n",
              "      <th>water_quality</th>\n",
              "      <th>quality_group</th>\n",
              "      <th>quantity</th>\n",
              "      <th>source</th>\n",
              "      <th>source_type</th>\n",
              "      <th>source_class</th>\n",
              "      <th>waterpoint_type</th>\n",
              "      <th>waterpoint_type_group</th>\n",
              "      <th>longitude_MISSING</th>\n",
              "      <th>latitude_MISSING</th>\n",
              "      <th>construction_year_MISSING</th>\n",
              "      <th>gps_height_MISSING</th>\n",
              "      <th>population_MISSING</th>\n",
              "      <th>year_recorded</th>\n",
              "      <th>month_recorded</th>\n",
              "      <th>day_recorded</th>\n",
              "      <th>pump_age</th>\n",
              "      <th>years_MISSING</th>\n",
              "    </tr>\n",
              "    <tr>\n",
              "      <th>date_recorded</th>\n",
              "      <th></th>\n",
              "      <th></th>\n",
              "      <th></th>\n",
              "      <th></th>\n",
              "      <th></th>\n",
              "      <th></th>\n",
              "      <th></th>\n",
              "      <th></th>\n",
              "      <th></th>\n",
              "      <th></th>\n",
              "      <th></th>\n",
              "      <th></th>\n",
              "      <th></th>\n",
              "      <th></th>\n",
              "      <th></th>\n",
              "      <th></th>\n",
              "      <th></th>\n",
              "      <th></th>\n",
              "      <th></th>\n",
              "      <th></th>\n",
              "      <th></th>\n",
              "      <th></th>\n",
              "      <th></th>\n",
              "      <th></th>\n",
              "      <th></th>\n",
              "      <th></th>\n",
              "      <th></th>\n",
              "      <th></th>\n",
              "      <th></th>\n",
              "      <th></th>\n",
              "      <th></th>\n",
              "      <th></th>\n",
              "      <th></th>\n",
              "      <th></th>\n",
              "      <th></th>\n",
              "      <th></th>\n",
              "      <th></th>\n",
              "      <th></th>\n",
              "      <th></th>\n",
              "      <th></th>\n",
              "      <th></th>\n",
              "      <th></th>\n",
              "      <th></th>\n",
              "      <th></th>\n",
              "      <th></th>\n",
              "    </tr>\n",
              "  </thead>\n",
              "  <tbody>\n",
              "    <tr>\n",
              "      <th>2011-07-27</th>\n",
              "      <td>NaN</td>\n",
              "      <td>Swedish</td>\n",
              "      <td>NaN</td>\n",
              "      <td>Sengerema Water Department</td>\n",
              "      <td>32.757280</td>\n",
              "      <td>-2.532955</td>\n",
              "      <td>Kwa Msumali</td>\n",
              "      <td>NaN</td>\n",
              "      <td>Lake Victoria</td>\n",
              "      <td>Igalagalilo Mashariki</td>\n",
              "      <td>Mwanza</td>\n",
              "      <td>19</td>\n",
              "      <td>5.0</td>\n",
              "      <td>Sengerema</td>\n",
              "      <td>Katunguru</td>\n",
              "      <td>NaN</td>\n",
              "      <td>True</td>\n",
              "      <td>VWC</td>\n",
              "      <td>None</td>\n",
              "      <td>True</td>\n",
              "      <td>NaN</td>\n",
              "      <td>nira/tanira</td>\n",
              "      <td>nira/tanira</td>\n",
              "      <td>handpump</td>\n",
              "      <td>vwc</td>\n",
              "      <td>user-group</td>\n",
              "      <td>never pay</td>\n",
              "      <td>soft</td>\n",
              "      <td>good</td>\n",
              "      <td>dry</td>\n",
              "      <td>shallow well</td>\n",
              "      <td>shallow well</td>\n",
              "      <td>groundwater</td>\n",
              "      <td>hand pump</td>\n",
              "      <td>hand pump</td>\n",
              "      <td>False</td>\n",
              "      <td>False</td>\n",
              "      <td>True</td>\n",
              "      <td>True</td>\n",
              "      <td>True</td>\n",
              "      <td>2011</td>\n",
              "      <td>7</td>\n",
              "      <td>27</td>\n",
              "      <td>NaN</td>\n",
              "      <td>True</td>\n",
              "    </tr>\n",
              "    <tr>\n",
              "      <th>2013-02-13</th>\n",
              "      <td>NaN</td>\n",
              "      <td>Tassaf I</td>\n",
              "      <td>1326.0</td>\n",
              "      <td>TASSAF</td>\n",
              "      <td>30.902357</td>\n",
              "      <td>-3.635665</td>\n",
              "      <td>Kumbanga Zahanati</td>\n",
              "      <td>NaN</td>\n",
              "      <td>Lake Tanganyika</td>\n",
              "      <td>Kabogi</td>\n",
              "      <td>Kigoma</td>\n",
              "      <td>16</td>\n",
              "      <td>1.0</td>\n",
              "      <td>Kibondo</td>\n",
              "      <td>Murungu</td>\n",
              "      <td>300.0</td>\n",
              "      <td>True</td>\n",
              "      <td>VWC</td>\n",
              "      <td>NaN</td>\n",
              "      <td>False</td>\n",
              "      <td>2004.0</td>\n",
              "      <td>gravity</td>\n",
              "      <td>gravity</td>\n",
              "      <td>gravity</td>\n",
              "      <td>vwc</td>\n",
              "      <td>user-group</td>\n",
              "      <td>unknown</td>\n",
              "      <td>soft</td>\n",
              "      <td>good</td>\n",
              "      <td>insufficient</td>\n",
              "      <td>rainwater harvesting</td>\n",
              "      <td>rainwater harvesting</td>\n",
              "      <td>surface</td>\n",
              "      <td>communal standpipe</td>\n",
              "      <td>communal standpipe</td>\n",
              "      <td>False</td>\n",
              "      <td>False</td>\n",
              "      <td>False</td>\n",
              "      <td>False</td>\n",
              "      <td>False</td>\n",
              "      <td>2013</td>\n",
              "      <td>2</td>\n",
              "      <td>13</td>\n",
              "      <td>9.0</td>\n",
              "      <td>False</td>\n",
              "    </tr>\n",
              "    <tr>\n",
              "      <th>2013-01-19</th>\n",
              "      <td>NaN</td>\n",
              "      <td>Finw</td>\n",
              "      <td>339.0</td>\n",
              "      <td>ter</td>\n",
              "      <td>39.493110</td>\n",
              "      <td>-10.863318</td>\n",
              "      <td>Kwa Nayopa</td>\n",
              "      <td>NaN</td>\n",
              "      <td>Ruvuma / Southern Coast</td>\n",
              "      <td>Mbuyuni</td>\n",
              "      <td>Mtwara</td>\n",
              "      <td>9</td>\n",
              "      <td>4.0</td>\n",
              "      <td>Tandahimba</td>\n",
              "      <td>Lukokoda</td>\n",
              "      <td>1.0</td>\n",
              "      <td>True</td>\n",
              "      <td>Water Board</td>\n",
              "      <td>Borehole</td>\n",
              "      <td>True</td>\n",
              "      <td>1982.0</td>\n",
              "      <td>submersible</td>\n",
              "      <td>submersible</td>\n",
              "      <td>submersible</td>\n",
              "      <td>vwc</td>\n",
              "      <td>user-group</td>\n",
              "      <td>never pay</td>\n",
              "      <td>soft</td>\n",
              "      <td>good</td>\n",
              "      <td>insufficient</td>\n",
              "      <td>machine dbh</td>\n",
              "      <td>borehole</td>\n",
              "      <td>groundwater</td>\n",
              "      <td>communal standpipe multiple</td>\n",
              "      <td>communal standpipe</td>\n",
              "      <td>False</td>\n",
              "      <td>False</td>\n",
              "      <td>False</td>\n",
              "      <td>False</td>\n",
              "      <td>False</td>\n",
              "      <td>2013</td>\n",
              "      <td>1</td>\n",
              "      <td>19</td>\n",
              "      <td>31.0</td>\n",
              "      <td>False</td>\n",
              "    </tr>\n",
              "    <tr>\n",
              "      <th>2013-09-03</th>\n",
              "      <td>NaN</td>\n",
              "      <td>World Vision</td>\n",
              "      <td>1803.0</td>\n",
              "      <td>World Vision</td>\n",
              "      <td>36.799547</td>\n",
              "      <td>-3.172507</td>\n",
              "      <td>Amosi</td>\n",
              "      <td>NaN</td>\n",
              "      <td>Internal</td>\n",
              "      <td>Karafia</td>\n",
              "      <td>Arusha</td>\n",
              "      <td>2</td>\n",
              "      <td>7.0</td>\n",
              "      <td>Meru</td>\n",
              "      <td>Ngarenanyuki</td>\n",
              "      <td>120.0</td>\n",
              "      <td>True</td>\n",
              "      <td>VWC</td>\n",
              "      <td>Kisimiri gravity water supply</td>\n",
              "      <td>True</td>\n",
              "      <td>2007.0</td>\n",
              "      <td>gravity</td>\n",
              "      <td>gravity</td>\n",
              "      <td>gravity</td>\n",
              "      <td>wug</td>\n",
              "      <td>user-group</td>\n",
              "      <td>unknown</td>\n",
              "      <td>soft</td>\n",
              "      <td>good</td>\n",
              "      <td>insufficient</td>\n",
              "      <td>spring</td>\n",
              "      <td>spring</td>\n",
              "      <td>groundwater</td>\n",
              "      <td>communal standpipe</td>\n",
              "      <td>communal standpipe</td>\n",
              "      <td>False</td>\n",
              "      <td>False</td>\n",
              "      <td>False</td>\n",
              "      <td>False</td>\n",
              "      <td>False</td>\n",
              "      <td>2013</td>\n",
              "      <td>9</td>\n",
              "      <td>3</td>\n",
              "      <td>6.0</td>\n",
              "      <td>False</td>\n",
              "    </tr>\n",
              "    <tr>\n",
              "      <th>2011-07-14</th>\n",
              "      <td>NaN</td>\n",
              "      <td>Oxfam</td>\n",
              "      <td>NaN</td>\n",
              "      <td>OXFAM</td>\n",
              "      <td>30.814661</td>\n",
              "      <td>-2.431693</td>\n",
              "      <td>Kwa Razaro</td>\n",
              "      <td>NaN</td>\n",
              "      <td>Lake Victoria</td>\n",
              "      <td>Nyakahanga</td>\n",
              "      <td>Kagera</td>\n",
              "      <td>18</td>\n",
              "      <td>30.0</td>\n",
              "      <td>Ngara</td>\n",
              "      <td>Rusumo</td>\n",
              "      <td>NaN</td>\n",
              "      <td>True</td>\n",
              "      <td>VWC</td>\n",
              "      <td>Kamatendeli spring source</td>\n",
              "      <td>False</td>\n",
              "      <td>NaN</td>\n",
              "      <td>gravity</td>\n",
              "      <td>gravity</td>\n",
              "      <td>gravity</td>\n",
              "      <td>vwc</td>\n",
              "      <td>user-group</td>\n",
              "      <td>pay monthly</td>\n",
              "      <td>soft</td>\n",
              "      <td>good</td>\n",
              "      <td>enough</td>\n",
              "      <td>spring</td>\n",
              "      <td>spring</td>\n",
              "      <td>groundwater</td>\n",
              "      <td>communal standpipe</td>\n",
              "      <td>communal standpipe</td>\n",
              "      <td>False</td>\n",
              "      <td>False</td>\n",
              "      <td>True</td>\n",
              "      <td>True</td>\n",
              "      <td>True</td>\n",
              "      <td>2011</td>\n",
              "      <td>7</td>\n",
              "      <td>14</td>\n",
              "      <td>NaN</td>\n",
              "      <td>True</td>\n",
              "    </tr>\n",
              "  </tbody>\n",
              "</table>\n",
              "</div>"
            ],
            "text/plain": [
              "               amount_tsh        funder  ...  pump_age years_MISSING\n",
              "date_recorded                            ...                        \n",
              "2011-07-27            NaN       Swedish  ...       NaN          True\n",
              "2013-02-13            NaN      Tassaf I  ...       9.0         False\n",
              "2013-01-19            NaN          Finw  ...      31.0         False\n",
              "2013-09-03            NaN  World Vision  ...       6.0         False\n",
              "2011-07-14            NaN         Oxfam  ...       NaN          True\n",
              "\n",
              "[5 rows x 45 columns]"
            ]
          },
          "metadata": {},
          "execution_count": 29
        }
      ]
    },
    {
      "cell_type": "code",
      "metadata": {
        "id": "mxOEAYnUSy-k",
        "colab": {
          "base_uri": "https://localhost:8080/"
        },
        "outputId": "e6fb8eea-1144-46f1-e8bf-ce4defa3d513"
      },
      "source": [
        "# Baseline Metric\n",
        "print('The baseline accuracy is ', y_train.value_counts(normalize=True).max())"
      ],
      "execution_count": null,
      "outputs": [
        {
          "output_type": "stream",
          "name": "stdout",
          "text": [
            "The baseline accuracy is  0.5425489938182296\n"
          ]
        }
      ]
    },
    {
      "cell_type": "markdown",
      "metadata": {
        "id": "A3jiNoOEgIbi"
      },
      "source": [
        "# Build Model"
      ]
    },
    {
      "cell_type": "code",
      "metadata": {
        "id": "AAyJYq0GLkVf"
      },
      "source": [
        "model_gb = make_pipeline(\n",
        "    OrdinalEncoder(),\n",
        "    SimpleImputer(strategy='mean'),\n",
        "    GradientBoostingClassifier(random_state=42,n_estimators=75) # learning_rate=0.1\n",
        ")\n",
        "\n",
        "model_gb.fit(X_train,y_train);"
      ],
      "execution_count": null,
      "outputs": []
    },
    {
      "cell_type": "code",
      "metadata": {
        "id": "24pznq8lLu5A"
      },
      "source": [
        "# xgboost = gradient boosting + regularization\n",
        "model_xgb = make_pipeline(\n",
        "    OrdinalEncoder(),\n",
        "    SimpleImputer(strategy='mean'),\n",
        "    XGBClassifier(random_state=42,n_estimators=75, n_jobs=-1) # learning_rate=0.1\n",
        ")\n",
        "\n",
        "model_xgb.fit(X_train,y_train);"
      ],
      "execution_count": null,
      "outputs": []
    },
    {
      "cell_type": "markdown",
      "metadata": {
        "id": "qfmiBiimgIbj"
      },
      "source": [
        "# Check Metrics"
      ]
    },
    {
      "cell_type": "code",
      "metadata": {
        "id": "m8lB4z5l_eml",
        "colab": {
          "base_uri": "https://localhost:8080/"
        },
        "outputId": "24fb91af-66eb-4017-85dc-926222e5aea6"
      },
      "source": [
        "print('Training Accuracy', model_gb.score(X_train, y_train))\n",
        "print('Validation Accuracy', model_gb.score(X_val, y_val))"
      ],
      "execution_count": null,
      "outputs": [
        {
          "output_type": "stream",
          "name": "stdout",
          "text": [
            "Training Accuracy 0.7537550966723662\n",
            "Validation Accuracy 0.7429503367003367\n"
          ]
        }
      ]
    },
    {
      "cell_type": "code",
      "metadata": {
        "id": "tmLrHQlMSy-m",
        "colab": {
          "base_uri": "https://localhost:8080/"
        },
        "outputId": "c255e2dc-c547-45f8-a6ff-8bd109649124"
      },
      "source": [
        "print('Training Accuracy', model_xgb.score(X_train, y_train))\n",
        "print('Validation Accuracy', model_xgb.score(X_val, y_val))"
      ],
      "execution_count": null,
      "outputs": [
        {
          "output_type": "stream",
          "name": "stdout",
          "text": [
            "Training Accuracy 0.7457582533210575\n",
            "Validation Accuracy 0.7376893939393939\n"
          ]
        }
      ]
    },
    {
      "cell_type": "markdown",
      "metadata": {
        "id": "djCjZ5WBgIbk"
      },
      "source": [
        "# Tuning / Communication\n",
        "\n",
        "- How can we determine or communicate which features are most important to our model when making predictions?"
      ]
    },
    {
      "cell_type": "markdown",
      "metadata": {
        "id": "3AInnlEDgIbk"
      },
      "source": [
        "**Option 1:** Grab feature importances from our pipeline\n"
      ]
    },
    {
      "cell_type": "code",
      "metadata": {
        "id": "bgTWgFV6MaTW",
        "colab": {
          "base_uri": "https://localhost:8080/",
          "height": 296
        },
        "outputId": "dff3b28a-4cc7-49dd-cf94-90b965562eee"
      },
      "source": [
        "importances = model_xgb.named_steps['xgbclassifier'].feature_importances_\n",
        "feature_names = X_train.columns\n",
        "feat_imp = pd.Series(data=importances, index=feature_names).sort_values()\n",
        "feat_imp.tail(10).plot(kind='barh')\n",
        "plt.xlabel('Gini Importance')\n",
        "plt.ylabel('Feature')"
      ],
      "execution_count": null,
      "outputs": [
        {
          "output_type": "execute_result",
          "data": {
            "text/plain": [
              "Text(0, 0.5, 'Feature')"
            ]
          },
          "metadata": {},
          "execution_count": 16
        },
        {
          "output_type": "display_data",
          "data": {
            "image/png": "[encoded data removed]",
            "text/plain": [
              "<Figure size 432x288 with 1 Axes>"
            ]
          },
          "metadata": {
            "needs_background": "light"
          }
        }
      ]
    },
    {
      "cell_type": "markdown",
      "metadata": {
        "id": "MN1koMwpgIbl"
      },
      "source": [
        "**Option 2:** Drop-column Importance"
      ]
    },
    {
      "cell_type": "code",
      "metadata": {
        "id": "qnB2_kmOwKO8",
        "colab": {
          "base_uri": "https://localhost:8080/"
        },
        "outputId": "fee05157-2507-4b7d-cbd4-7022f1885346"
      },
      "source": [
        "X_train.columns"
      ],
      "execution_count": null,
      "outputs": [
        {
          "output_type": "execute_result",
          "data": {
            "text/plain": [
              "Index(['amount_tsh', 'funder', 'gps_height', 'installer', 'longitude',\n",
              "       'latitude', 'wpt_name', 'num_private', 'basin', 'subvillage', 'region',\n",
              "       'region_code', 'district_code', 'lga', 'ward', 'population',\n",
              "       'public_meeting', 'scheme_management', 'scheme_name', 'permit',\n",
              "       'construction_year', 'extraction_type', 'extraction_type_group',\n",
              "       'extraction_type_class', 'management', 'management_group', 'payment',\n",
              "       'water_quality', 'quality_group', 'quantity', 'source', 'source_type',\n",
              "       'source_class', 'waterpoint_type', 'waterpoint_type_group',\n",
              "       'longitude_MISSING', 'latitude_MISSING', 'construction_year_MISSING',\n",
              "       'gps_height_MISSING', 'population_MISSING', 'year_recorded',\n",
              "       'month_recorded', 'day_recorded', 'pump_age', 'years_MISSING'],\n",
              "      dtype='object')"
            ]
          },
          "metadata": {},
          "execution_count": 17
        }
      ]
    },
    {
      "cell_type": "code",
      "metadata": {
        "colab": {
          "base_uri": "https://localhost:8080/"
        },
        "id": "SWcSjOVoF5D_",
        "outputId": "748f41d3-838c-429b-ddc6-1301404d5ed2"
      },
      "source": [
        "col = 'quantity'\n",
        "\n",
        "model_xgb_w_col = make_pipeline(\n",
        "    OrdinalEncoder(),\n",
        "    SimpleImputer(strategy='mean'),\n",
        "    XGBClassifier(random_state=42,n_estimators=75, n_jobs=-1) # learning_rate=0.1\n",
        ")\n",
        "\n",
        "model_xgb_w_col.fit(X_train,y_train);\n",
        "\n",
        "print(f'validation accuracy with \"{col}\"included:',model_xgb_w_col.score(X_val,y_val) )\n"
      ],
      "execution_count": null,
      "outputs": [
        {
          "output_type": "stream",
          "name": "stdout",
          "text": [
            "validation accuracy with \"quantity\"included: 0.7376893939393939\n"
          ]
        }
      ]
    },
    {
      "cell_type": "code",
      "metadata": {
        "colab": {
          "base_uri": "https://localhost:8080/"
        },
        "id": "PdktphYHGVK6",
        "outputId": "6f1c6bc5-39fe-435d-dea2-2ba23572e6d1"
      },
      "source": [
        "model_xgb_wo_col = make_pipeline(\n",
        "    OrdinalEncoder(),\n",
        "    SimpleImputer(strategy='mean'),\n",
        "    XGBClassifier(random_state=42,n_estimators=75, n_jobs=-1) # learning_rate=0.1\n",
        ")\n",
        "\n",
        "model_xgb_wo_col.fit(X_train.drop(columns=col),y_train);\n",
        "\n",
        "print(f'validation accuracy with \"{col}\"included:',model_xgb_wo_col.score(X_val.drop(columns=col),y_val) )"
      ],
      "execution_count": null,
      "outputs": [
        {
          "output_type": "stream",
          "name": "stdout",
          "text": [
            "validation accuracy with \"quantity\"included: 0.7057028619528619\n"
          ]
        }
      ]
    },
    {
      "cell_type": "markdown",
      "metadata": {
        "id": "XLhviblHgIbn"
      },
      "source": [
        "**Option 3:** Permutation Importance"
      ]
    },
    {
      "cell_type": "code",
      "metadata": {
        "id": "Aubw_UduaJpy"
      },
      "source": [
        "\n",
        "\n",
        "model_perm = make_pipeline(\n",
        "    OrdinalEncoder(),\n",
        "    SimpleImputer(strategy='mean'),\n",
        "    XGBClassifier(random_state=42,n_estimators=75, n_jobs=-1) # learning_rate=0.1\n",
        ")\n",
        "\n",
        "model_perm.fit(X_train,y_train);\n"
      ],
      "execution_count": null,
      "outputs": []
    },
    {
      "cell_type": "code",
      "metadata": {
        "colab": {
          "base_uri": "https://localhost:8080/"
        },
        "id": "D9f90oaNKB2S",
        "outputId": "2e7eaf9c-490c-401f-9992-83a08a4738b2"
      },
      "source": [
        "print('validation accuracy', model_perm.score(X_val,y_val))"
      ],
      "execution_count": null,
      "outputs": [
        {
          "output_type": "stream",
          "name": "stdout",
          "text": [
            "validation accuracy 0.7376893939393939\n"
          ]
        }
      ]
    },
    {
      "cell_type": "code",
      "metadata": {
        "id": "bjETC2sQKlkx"
      },
      "source": [
        "col = 'source'"
      ],
      "execution_count": null,
      "outputs": []
    },
    {
      "cell_type": "code",
      "metadata": {
        "id": "q9TYeP5TKICW"
      },
      "source": [
        "X_val_perm = X_val.copy()\n",
        "X_val_perm[col] = np.random.permutation(X_val_perm[col])"
      ],
      "execution_count": null,
      "outputs": []
    },
    {
      "cell_type": "code",
      "metadata": {
        "colab": {
          "base_uri": "https://localhost:8080/"
        },
        "id": "jFaUMAkGKY3c",
        "outputId": "aa7ce7ba-3151-4357-d8e1-9442a60882b1"
      },
      "source": [
        "print('validation accuracy', model_perm.score(X_val_perm,y_val))"
      ],
      "execution_count": null,
      "outputs": [
        {
          "output_type": "stream",
          "name": "stdout",
          "text": [
            "validation accuracy 0.7363215488215489\n"
          ]
        }
      ]
    },
    {
      "cell_type": "code",
      "metadata": {
        "id": "WXnFc4x3MwCG"
      },
      "source": [
        "perm_imp = permutation_importance(model_perm, X_val, y_val, random_state=42)"
      ],
      "execution_count": null,
      "outputs": []
    },
    {
      "cell_type": "code",
      "metadata": {
        "colab": {
          "base_uri": "https://localhost:8080/"
        },
        "id": "LDsLXCyVNVjr",
        "outputId": "32d37ec6-7ed9-4bba-b974-a5969a93cc39"
      },
      "source": [
        "perm_imp"
      ],
      "execution_count": null,
      "outputs": [
        {
          "output_type": "execute_result",
          "data": {
            "text/plain": [
              "{'importances': array([[ 0.00010522,  0.00042088, -0.00021044,  0.00073653,  0.00042088],\n",
              "        [ 0.0022096 ,  0.00378788,  0.00315657,  0.00494529,  0.00305135],\n",
              "        [ 0.0016835 ,  0.00178872,  0.00431397,  0.00263047,  0.00105219],\n",
              "        [ 0.00010522,  0.00010522,  0.00021044,  0.00021044,  0.00105219],\n",
              "        [ 0.00431397,  0.00347222,  0.00199916,  0.00368266,  0.00347222],\n",
              "        [ 0.00073653,  0.00136785,  0.00199916,  0.0016835 ,  0.00136785],\n",
              "        [ 0.        ,  0.        ,  0.        ,  0.        ,  0.        ],\n",
              "        [ 0.        ,  0.        ,  0.        ,  0.        ,  0.        ],\n",
              "        [ 0.00084175,  0.00063131,  0.00063131,  0.00126263,  0.00105219],\n",
              "        [ 0.        ,  0.00010522,  0.00010522,  0.00010522,  0.        ],\n",
              "        [ 0.00294613,  0.00252525,  0.00178872,  0.00315657,  0.00294613],\n",
              "        [ 0.00199916,  0.00210438,  0.00094697,  0.00178872,  0.00252525],\n",
              "        [ 0.00063131,  0.00021044,  0.00178872,  0.00147306,  0.00073653],\n",
              "        [ 0.00315657,  0.00189394,  0.00263047,  0.00178872,  0.00010522],\n",
              "        [ 0.00021044,  0.00021044,  0.00021044,  0.00021044,  0.00063131],\n",
              "        [ 0.00462963,  0.00599747,  0.00462963,  0.00294613,  0.00462963],\n",
              "        [ 0.00084175,  0.0016835 ,  0.00126263,  0.00136785,  0.00115741],\n",
              "        [ 0.00094697,  0.00136785,  0.00115741,  0.00094697,  0.00084175],\n",
              "        [ 0.0016835 ,  0.0016835 ,  0.00115741,  0.00147306,  0.00157828],\n",
              "        [ 0.00094697,  0.00084175,  0.00105219,  0.00105219,  0.00073653],\n",
              "        [ 0.00315657,  0.003367  ,  0.00115741,  0.00263047,  0.00357744],\n",
              "        [ 0.00547138,  0.00242003,  0.00378788,  0.00231481,  0.00431397],\n",
              "        [-0.00073653, -0.00052609, -0.00126263,  0.        , -0.00115741],\n",
              "        [ 0.00789141,  0.00652357,  0.00652357,  0.00589226,  0.00799663],\n",
              "        [ 0.00242003,  0.00347222,  0.00315657,  0.00199916,  0.00294613],\n",
              "        [ 0.00021044,  0.00010522,  0.00010522,  0.00010522,  0.00010522],\n",
              "        [ 0.01536195,  0.01725589,  0.01683502,  0.01778199,  0.01799242],\n",
              "        [ 0.00042088,  0.00063131,  0.00063131,  0.00021044,  0.00042088],\n",
              "        [ 0.00063131,  0.00021044,  0.00021044,  0.00052609,  0.00031566],\n",
              "        [ 0.08585859,  0.08922559,  0.09080387,  0.0920665 ,  0.09680135],\n",
              "        [ 0.00210438,  0.00021044,  0.00094697,  0.00063131,  0.00252525],\n",
              "        [ 0.00010522,  0.        ,  0.00021044,  0.00010522,  0.        ],\n",
              "        [ 0.00052609,  0.00063131,  0.00042088,  0.        ,  0.        ],\n",
              "        [ 0.03188131,  0.02767256,  0.03156566,  0.0273569 ,  0.02893519],\n",
              "        [ 0.        ,  0.        ,  0.        ,  0.        ,  0.        ],\n",
              "        [ 0.00094697,  0.00105219,  0.00073653,  0.00126263,  0.00042088],\n",
              "        [ 0.        ,  0.        ,  0.        ,  0.        ,  0.        ],\n",
              "        [ 0.        ,  0.        ,  0.        , -0.00010522, -0.00010522],\n",
              "        [-0.00021044,  0.        , -0.00010522,  0.        , -0.00010522],\n",
              "        [ 0.        ,  0.        ,  0.        ,  0.        ,  0.        ],\n",
              "        [ 0.00010522,  0.00010522,  0.00010522,  0.00010522,  0.        ],\n",
              "        [ 0.00052609,  0.00073653,  0.00094697,  0.00105219,  0.00063131],\n",
              "        [ 0.00021044,  0.00042088,  0.00042088,  0.00042088,  0.00052609],\n",
              "        [ 0.00399832,  0.00547138,  0.00410354,  0.00441919,  0.00578704],\n",
              "        [ 0.        ,  0.        ,  0.        ,  0.        ,  0.        ]]),\n",
              " 'importances_mean': array([ 2.94612795e-04,  3.43013468e-03,  2.29377104e-03,  3.36700337e-04,\n",
              "         3.38804714e-03,  1.43097643e-03,  0.00000000e+00,  0.00000000e+00,\n",
              "         8.83838384e-04,  6.31313131e-05,  2.67255892e-03,  1.87289562e-03,\n",
              "         9.68013468e-04,  1.91498316e-03,  2.94612795e-04,  4.56649832e-03,\n",
              "         1.26262626e-03,  1.05218855e-03,  1.51515152e-03,  9.25925926e-04,\n",
              "         2.77777778e-03,  3.66161616e-03, -7.36531987e-04,  6.96548822e-03,\n",
              "         2.79882155e-03,  1.26262626e-04,  1.70454545e-02,  4.62962963e-04,\n",
              "         3.78787879e-04,  9.09511785e-02,  1.28367003e-03,  8.41750842e-05,\n",
              "         3.15656566e-04,  2.94823232e-02,  0.00000000e+00,  8.83838384e-04,\n",
              "         0.00000000e+00, -4.20875421e-05, -8.41750842e-05,  0.00000000e+00,\n",
              "         8.41750842e-05,  7.78619529e-04,  3.99831650e-04,  4.75589226e-03,\n",
              "         0.00000000e+00]),\n",
              " 'importances_std': array([3.21907798e-04, 9.09032452e-04, 1.12815027e-03, 3.60825509e-04,\n",
              "        7.59910357e-04, 4.18765756e-04, 0.00000000e+00, 0.00000000e+00,\n",
              "        2.45410433e-04, 5.15465013e-05, 4.87198523e-04, 5.21444095e-04,\n",
              "        5.77842181e-04, 1.03393253e-03, 1.68350168e-04, 9.68013468e-04,\n",
              "        2.74377206e-04, 1.88221210e-04, 1.95151904e-04, 1.22705217e-04,\n",
              "        8.69186718e-04, 1.18929892e-03, 4.56218085e-04, 8.32227270e-04,\n",
              "        5.26514983e-04, 4.20875421e-05, 9.34021087e-04, 1.57477163e-04,\n",
              "        1.70960404e-04, 3.58893479e-03, 8.83838384e-04, 7.87385814e-05,\n",
              "        2.66184988e-04, 1.90722055e-03, 0.00000000e+00, 2.86998773e-04,\n",
              "        0.00000000e+00, 5.15465013e-05, 7.87385814e-05, 0.00000000e+00,\n",
              "        4.20875421e-05, 1.95151904e-04, 1.03093003e-04, 7.33217651e-04,\n",
              "        0.00000000e+00])}"
            ]
          },
          "metadata": {},
          "execution_count": 31
        }
      ]
    },
    {
      "cell_type": "code",
      "metadata": {
        "id": "artn36WmNAD7"
      },
      "source": [
        "data_perm = {'imp_mean':perm_imp['importances_mean'],\n",
        "             'imp_std':perm_imp['importances_std']}"
      ],
      "execution_count": null,
      "outputs": []
    },
    {
      "cell_type": "code",
      "metadata": {
        "id": "vJQcqnKyNiUq"
      },
      "source": [
        "df_perm = pd.DataFrame(data_perm, index=X_val.columns).sort_values('imp_mean')"
      ],
      "execution_count": null,
      "outputs": []
    },
    {
      "cell_type": "code",
      "metadata": {
        "id": "s7eWyb8jNtvC",
        "colab": {
          "base_uri": "https://localhost:8080/",
          "height": 1000
        },
        "outputId": "c6732c00-334b-488c-d632-fea89e919cfe"
      },
      "source": [
        "df_perm"
      ],
      "execution_count": null,
      "outputs": [
        {
          "output_type": "execute_result",
          "data": {
            "text/html": [
              "<div>\n",
              "<style scoped>\n",
              "    .dataframe tbody tr th:only-of-type {\n",
              "        vertical-align: middle;\n",
              "    }\n",
              "\n",
              "    .dataframe tbody tr th {\n",
              "        vertical-align: top;\n",
              "    }\n",
              "\n",
              "    .dataframe thead th {\n",
              "        text-align: right;\n",
              "    }\n",
              "</style>\n",
              "<table border=\"1\" class=\"dataframe\">\n",
              "  <thead>\n",
              "    <tr style=\"text-align: right;\">\n",
              "      <th></th>\n",
              "      <th>imp_mean</th>\n",
              "      <th>imp_std</th>\n",
              "    </tr>\n",
              "  </thead>\n",
              "  <tbody>\n",
              "    <tr>\n",
              "      <th>extraction_type_group</th>\n",
              "      <td>-0.000737</td>\n",
              "      <td>0.000456</td>\n",
              "    </tr>\n",
              "    <tr>\n",
              "      <th>gps_height_MISSING</th>\n",
              "      <td>-0.000084</td>\n",
              "      <td>0.000079</td>\n",
              "    </tr>\n",
              "    <tr>\n",
              "      <th>construction_year_MISSING</th>\n",
              "      <td>-0.000042</td>\n",
              "      <td>0.000052</td>\n",
              "    </tr>\n",
              "    <tr>\n",
              "      <th>population_MISSING</th>\n",
              "      <td>0.000000</td>\n",
              "      <td>0.000000</td>\n",
              "    </tr>\n",
              "    <tr>\n",
              "      <th>latitude_MISSING</th>\n",
              "      <td>0.000000</td>\n",
              "      <td>0.000000</td>\n",
              "    </tr>\n",
              "    <tr>\n",
              "      <th>waterpoint_type_group</th>\n",
              "      <td>0.000000</td>\n",
              "      <td>0.000000</td>\n",
              "    </tr>\n",
              "    <tr>\n",
              "      <th>num_private</th>\n",
              "      <td>0.000000</td>\n",
              "      <td>0.000000</td>\n",
              "    </tr>\n",
              "    <tr>\n",
              "      <th>years_MISSING</th>\n",
              "      <td>0.000000</td>\n",
              "      <td>0.000000</td>\n",
              "    </tr>\n",
              "    <tr>\n",
              "      <th>wpt_name</th>\n",
              "      <td>0.000000</td>\n",
              "      <td>0.000000</td>\n",
              "    </tr>\n",
              "    <tr>\n",
              "      <th>subvillage</th>\n",
              "      <td>0.000063</td>\n",
              "      <td>0.000052</td>\n",
              "    </tr>\n",
              "    <tr>\n",
              "      <th>year_recorded</th>\n",
              "      <td>0.000084</td>\n",
              "      <td>0.000042</td>\n",
              "    </tr>\n",
              "    <tr>\n",
              "      <th>source_type</th>\n",
              "      <td>0.000084</td>\n",
              "      <td>0.000079</td>\n",
              "    </tr>\n",
              "    <tr>\n",
              "      <th>management_group</th>\n",
              "      <td>0.000126</td>\n",
              "      <td>0.000042</td>\n",
              "    </tr>\n",
              "    <tr>\n",
              "      <th>amount_tsh</th>\n",
              "      <td>0.000295</td>\n",
              "      <td>0.000322</td>\n",
              "    </tr>\n",
              "    <tr>\n",
              "      <th>ward</th>\n",
              "      <td>0.000295</td>\n",
              "      <td>0.000168</td>\n",
              "    </tr>\n",
              "    <tr>\n",
              "      <th>source_class</th>\n",
              "      <td>0.000316</td>\n",
              "      <td>0.000266</td>\n",
              "    </tr>\n",
              "    <tr>\n",
              "      <th>installer</th>\n",
              "      <td>0.000337</td>\n",
              "      <td>0.000361</td>\n",
              "    </tr>\n",
              "    <tr>\n",
              "      <th>quality_group</th>\n",
              "      <td>0.000379</td>\n",
              "      <td>0.000171</td>\n",
              "    </tr>\n",
              "    <tr>\n",
              "      <th>day_recorded</th>\n",
              "      <td>0.000400</td>\n",
              "      <td>0.000103</td>\n",
              "    </tr>\n",
              "    <tr>\n",
              "      <th>water_quality</th>\n",
              "      <td>0.000463</td>\n",
              "      <td>0.000157</td>\n",
              "    </tr>\n",
              "    <tr>\n",
              "      <th>month_recorded</th>\n",
              "      <td>0.000779</td>\n",
              "      <td>0.000195</td>\n",
              "    </tr>\n",
              "    <tr>\n",
              "      <th>longitude_MISSING</th>\n",
              "      <td>0.000884</td>\n",
              "      <td>0.000287</td>\n",
              "    </tr>\n",
              "    <tr>\n",
              "      <th>basin</th>\n",
              "      <td>0.000884</td>\n",
              "      <td>0.000245</td>\n",
              "    </tr>\n",
              "    <tr>\n",
              "      <th>permit</th>\n",
              "      <td>0.000926</td>\n",
              "      <td>0.000123</td>\n",
              "    </tr>\n",
              "    <tr>\n",
              "      <th>district_code</th>\n",
              "      <td>0.000968</td>\n",
              "      <td>0.000578</td>\n",
              "    </tr>\n",
              "    <tr>\n",
              "      <th>scheme_management</th>\n",
              "      <td>0.001052</td>\n",
              "      <td>0.000188</td>\n",
              "    </tr>\n",
              "    <tr>\n",
              "      <th>public_meeting</th>\n",
              "      <td>0.001263</td>\n",
              "      <td>0.000274</td>\n",
              "    </tr>\n",
              "    <tr>\n",
              "      <th>source</th>\n",
              "      <td>0.001284</td>\n",
              "      <td>0.000884</td>\n",
              "    </tr>\n",
              "    <tr>\n",
              "      <th>latitude</th>\n",
              "      <td>0.001431</td>\n",
              "      <td>0.000419</td>\n",
              "    </tr>\n",
              "    <tr>\n",
              "      <th>scheme_name</th>\n",
              "      <td>0.001515</td>\n",
              "      <td>0.000195</td>\n",
              "    </tr>\n",
              "    <tr>\n",
              "      <th>region_code</th>\n",
              "      <td>0.001873</td>\n",
              "      <td>0.000521</td>\n",
              "    </tr>\n",
              "    <tr>\n",
              "      <th>lga</th>\n",
              "      <td>0.001915</td>\n",
              "      <td>0.001034</td>\n",
              "    </tr>\n",
              "    <tr>\n",
              "      <th>gps_height</th>\n",
              "      <td>0.002294</td>\n",
              "      <td>0.001128</td>\n",
              "    </tr>\n",
              "    <tr>\n",
              "      <th>region</th>\n",
              "      <td>0.002673</td>\n",
              "      <td>0.000487</td>\n",
              "    </tr>\n",
              "    <tr>\n",
              "      <th>construction_year</th>\n",
              "      <td>0.002778</td>\n",
              "      <td>0.000869</td>\n",
              "    </tr>\n",
              "    <tr>\n",
              "      <th>management</th>\n",
              "      <td>0.002799</td>\n",
              "      <td>0.000527</td>\n",
              "    </tr>\n",
              "    <tr>\n",
              "      <th>longitude</th>\n",
              "      <td>0.003388</td>\n",
              "      <td>0.000760</td>\n",
              "    </tr>\n",
              "    <tr>\n",
              "      <th>funder</th>\n",
              "      <td>0.003430</td>\n",
              "      <td>0.000909</td>\n",
              "    </tr>\n",
              "    <tr>\n",
              "      <th>extraction_type</th>\n",
              "      <td>0.003662</td>\n",
              "      <td>0.001189</td>\n",
              "    </tr>\n",
              "    <tr>\n",
              "      <th>population</th>\n",
              "      <td>0.004566</td>\n",
              "      <td>0.000968</td>\n",
              "    </tr>\n",
              "    <tr>\n",
              "      <th>pump_age</th>\n",
              "      <td>0.004756</td>\n",
              "      <td>0.000733</td>\n",
              "    </tr>\n",
              "    <tr>\n",
              "      <th>extraction_type_class</th>\n",
              "      <td>0.006965</td>\n",
              "      <td>0.000832</td>\n",
              "    </tr>\n",
              "    <tr>\n",
              "      <th>payment</th>\n",
              "      <td>0.017045</td>\n",
              "      <td>0.000934</td>\n",
              "    </tr>\n",
              "    <tr>\n",
              "      <th>waterpoint_type</th>\n",
              "      <td>0.029482</td>\n",
              "      <td>0.001907</td>\n",
              "    </tr>\n",
              "    <tr>\n",
              "      <th>quantity</th>\n",
              "      <td>0.090951</td>\n",
              "      <td>0.003589</td>\n",
              "    </tr>\n",
              "  </tbody>\n",
              "</table>\n",
              "</div>"
            ],
            "text/plain": [
              "                           imp_mean   imp_std\n",
              "extraction_type_group     -0.000737  0.000456\n",
              "gps_height_MISSING        -0.000084  0.000079\n",
              "construction_year_MISSING -0.000042  0.000052\n",
              "population_MISSING         0.000000  0.000000\n",
              "latitude_MISSING           0.000000  0.000000\n",
              "waterpoint_type_group      0.000000  0.000000\n",
              "num_private                0.000000  0.000000\n",
              "years_MISSING              0.000000  0.000000\n",
              "wpt_name                   0.000000  0.000000\n",
              "subvillage                 0.000063  0.000052\n",
              "year_recorded              0.000084  0.000042\n",
              "source_type                0.000084  0.000079\n",
              "management_group           0.000126  0.000042\n",
              "amount_tsh                 0.000295  0.000322\n",
              "ward                       0.000295  0.000168\n",
              "source_class               0.000316  0.000266\n",
              "installer                  0.000337  0.000361\n",
              "quality_group              0.000379  0.000171\n",
              "day_recorded               0.000400  0.000103\n",
              "water_quality              0.000463  0.000157\n",
              "month_recorded             0.000779  0.000195\n",
              "longitude_MISSING          0.000884  0.000287\n",
              "basin                      0.000884  0.000245\n",
              "permit                     0.000926  0.000123\n",
              "district_code              0.000968  0.000578\n",
              "scheme_management          0.001052  0.000188\n",
              "public_meeting             0.001263  0.000274\n",
              "source                     0.001284  0.000884\n",
              "latitude                   0.001431  0.000419\n",
              "scheme_name                0.001515  0.000195\n",
              "region_code                0.001873  0.000521\n",
              "lga                        0.001915  0.001034\n",
              "gps_height                 0.002294  0.001128\n",
              "region                     0.002673  0.000487\n",
              "construction_year          0.002778  0.000869\n",
              "management                 0.002799  0.000527\n",
              "longitude                  0.003388  0.000760\n",
              "funder                     0.003430  0.000909\n",
              "extraction_type            0.003662  0.001189\n",
              "population                 0.004566  0.000968\n",
              "pump_age                   0.004756  0.000733\n",
              "extraction_type_class      0.006965  0.000832\n",
              "payment                    0.017045  0.000934\n",
              "waterpoint_type            0.029482  0.001907\n",
              "quantity                   0.090951  0.003589"
            ]
          },
          "metadata": {},
          "execution_count": 34
        }
      ]
    },
    {
      "cell_type": "code",
      "metadata": {
        "id": "ujFhmvghMPqW",
        "colab": {
          "base_uri": "https://localhost:8080/",
          "height": 328
        },
        "outputId": "b3449495-cfe7-483f-8d23-a70b4ff600f5"
      },
      "source": [
        "Image(url= \"https://i.imgur.com/h17tMUU.png\")"
      ],
      "execution_count": null,
      "outputs": [
        {
          "output_type": "execute_result",
          "data": {
            "text/html": [
              "<img src=\"https://i.imgur.com/h17tMUU.png\"/>"
            ],
            "text/plain": [
              "<IPython.core.display.Image object>"
            ]
          },
          "metadata": {},
          "execution_count": 6
        }
      ]
    },
    {
      "cell_type": "markdown",
      "metadata": {
        "id": "gUnHMfM-Sy-n"
      },
      "source": [
        "#### Remove the less important features to train the model"
      ]
    }
  ]
}