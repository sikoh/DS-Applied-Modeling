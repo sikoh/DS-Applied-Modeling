{
  "nbformat": 4,
  "nbformat_minor": 0,
  "metadata": {
    "colab": {
      "provenance": []
    },
    "kernelspec": {
      "display_name": "Python 3",
      "language": "python",
      "name": "python3"
    },
    "language_info": {
      "codemirror_mode": {
        "name": "ipython",
        "version": 3
      },
      "file_extension": ".py",
      "mimetype": "text/x-python",
      "name": "python",
      "nbconvert_exporter": "python",
      "pygments_lexer": "ipython3",
      "version": "3.8.5"
    }
  },
  "cells": [
    {
      "cell_type": "markdown",
      "metadata": {
        "id": "QiHzbgUAw-6R"
      },
      "source": [
        "# Wrangle ML datasets\n",
        "- Explore tabular data for supervised machine learning\n",
        "- Join relational data for supervised machine learning"
      ]
    },
    {
      "cell_type": "code",
      "metadata": {
        "id": "Q7m-9vzztbCX"
      },
      "source": [
        "from sklearn.ensemble import RandomForestClassifier\n",
        "from sklearn.model_selection import train_test_split\n",
        "from sklearn.pipeline import make_pipeline"
      ],
      "execution_count": null,
      "outputs": []
    },
    {
      "cell_type": "code",
      "metadata": {
        "id": "F-dKxK6fBbwa"
      },
      "source": [
        "from glob import glob\n",
        "import numpy as np\n",
        "import matplotlib.pyplot as plt\n",
        "import pandas as pd\n",
        "import requests\n",
        "import tarfile\n",
        "from IPython.display import Image"
      ],
      "execution_count": null,
      "outputs": []
    },
    {
      "cell_type": "markdown",
      "metadata": {
        "id": "qZTd9maPtj3e"
      },
      "source": [
        "# I. Wrangle Data"
      ]
    },
    {
      "cell_type": "markdown",
      "source": [
        "1. Download the data [HERE](https://www.kaggle.com/datasets/psparks/instacart-market-basket-analysis) by clicking the **Download** button on the top right corner of the page.\n",
        "2. Upload the file to your Google Drive in a folder named \"Instacart\""
      ],
      "metadata": {
        "id": "w9FMUdiXA-ip"
      }
    },
    {
      "cell_type": "code",
      "metadata": {
        "id": "GDhEvgSew-6T"
      },
      "source": [
        "# mounting your google drive\n",
        "from google.colab import drive\n",
        "drive.mount('/content/gdrive/Instacart/')"
      ],
      "execution_count": null,
      "outputs": []
    },
    {
      "cell_type": "code",
      "source": [
        "#change your working directory, if you want to or have already saved your kaggle dataset on google drive.\n",
        "%cd /content/gdrive/My Drive/Instacart"
      ],
      "metadata": {
        "id": "HeJ7hfoILQoa"
      },
      "execution_count": null,
      "outputs": []
    },
    {
      "cell_type": "code",
      "source": [
        "!ls"
      ],
      "metadata": {
        "id": "ZmlfrZkgOk-p"
      },
      "execution_count": null,
      "outputs": []
    },
    {
      "cell_type": "code",
      "metadata": {
        "id": "fJHLCinIw-6Z"
      },
      "source": [
        "# Unzip the files, if you haven't already done so.\n",
        "!unzip \\*.zip  && rm *.zip"
      ],
      "execution_count": null,
      "outputs": []
    },
    {
      "cell_type": "markdown",
      "metadata": {
        "id": "chXGkC9Ktj3y"
      },
      "source": [
        "**Before you start,** load each of the above `.csv` files into its own DataFrame."
      ]
    },
    {
      "cell_type": "code",
      "source": [
        "orders = pd.read_csv('orders.csv')\n",
        "order_products_train = pd.read_csv('order_products__train.csv')\n",
        "order_products_prior = pd.read_csv('order_products__prior.csv')\n",
        "products = pd.read_csv('products.csv')"
      ],
      "metadata": {
        "id": "4rEmlqLes7qV"
      },
      "execution_count": null,
      "outputs": []
    },
    {
      "cell_type": "code",
      "source": [
        "Image(url= \"https://i.imgur.com/R7c37Yw.png\")"
      ],
      "metadata": {
        "id": "P3EpVjH8-rwT"
      },
      "execution_count": null,
      "outputs": []
    },
    {
      "cell_type": "markdown",
      "metadata": {
        "id": "Z7ssyH6utj3y"
      },
      "source": [
        "## I.a. Warm-up Questions"
      ]
    },
    {
      "cell_type": "markdown",
      "metadata": {
        "id": "C4BGM4cEtj3z"
      },
      "source": [
        "What information is contained in the column `orders['eval_set']`?"
      ]
    },
    {
      "cell_type": "code",
      "source": [
        "orders['eval_set']"
      ],
      "metadata": {
        "id": "Do2ttcymsy4G"
      },
      "execution_count": null,
      "outputs": []
    },
    {
      "cell_type": "code",
      "source": [
        "orders['eval_set']"
      ],
      "metadata": {
        "id": "O0U6sXOEsykO"
      },
      "execution_count": null,
      "outputs": []
    },
    {
      "cell_type": "markdown",
      "metadata": {
        "id": "keXsOJMYtj34"
      },
      "source": [
        "The first row of `orders['order_id']` is `2539329`. Where can we find the items that were included in that order?"
      ]
    },
    {
      "cell_type": "code",
      "source": [
        "orders.head()"
      ],
      "metadata": {
        "id": "bvRhu65gs1I2"
      },
      "execution_count": null,
      "outputs": []
    },
    {
      "cell_type": "code",
      "source": [
        "order_products_prior.head()"
      ],
      "metadata": {
        "id": "9KPhVrDps1Bu"
      },
      "execution_count": null,
      "outputs": []
    },
    {
      "cell_type": "markdown",
      "metadata": {
        "id": "ACc2MNUZtj3-"
      },
      "source": [
        "The first row of `order_products__prior['product_id']` is `33120`. What is the name of that product?"
      ]
    },
    {
      "cell_type": "code",
      "source": [],
      "metadata": {
        "id": "mBHcp7wEs2c3"
      },
      "execution_count": null,
      "outputs": []
    },
    {
      "cell_type": "code",
      "source": [],
      "metadata": {
        "id": "CJ4tuSMzs2Wt"
      },
      "execution_count": null,
      "outputs": []
    },
    {
      "cell_type": "markdown",
      "metadata": {
        "id": "OToRF_OtBbwd"
      },
      "source": [
        "# Define Our Machine Learning Problem\n",
        "\n",
        "- We want predict whether or not a customer will purchase a specific item (of our choosing).\n",
        "- The most commonly ordered product: `'Banana'` (`24852`).\n",
        "- Our model is going to predict whether or not an order will include a `'Banana'`."
      ]
    },
    {
      "cell_type": "markdown",
      "metadata": {
        "id": "2gP7FqNZh7aG"
      },
      "source": [
        "Lets adjust the Kaggle competition classification task from \"What products will be ordered?\" (multiclass, multilabel classification) to \"Will one product be reordered?\" (binary classification)."
      ]
    },
    {
      "cell_type": "code",
      "source": [],
      "metadata": {
        "id": "m0kad9dssucP"
      },
      "execution_count": null,
      "outputs": []
    },
    {
      "cell_type": "code",
      "source": [],
      "metadata": {
        "id": "FOd6KRgxsuXO"
      },
      "execution_count": null,
      "outputs": []
    },
    {
      "cell_type": "markdown",
      "metadata": {
        "id": "O1AU_VjEenWF"
      },
      "source": [
        "## I.c. Create Feature Matrix and Target Vector\n",
        "\n",
        "Our **feature matrix** will be all the `'train'` rows from `orders`."
      ]
    },
    {
      "cell_type": "markdown",
      "metadata": {
        "id": "qKVxApLBBbwe"
      },
      "source": [
        "Our **target vector** will be whether or not each order in `X` contains the item we've chosen above."
      ]
    },
    {
      "cell_type": "code",
      "source": [],
      "metadata": {
        "id": "yDITZimptDKu"
      },
      "execution_count": null,
      "outputs": []
    },
    {
      "cell_type": "code",
      "source": [
        "banana_orders"
      ],
      "metadata": {
        "id": "W2iKl7rGtDHm"
      },
      "execution_count": null,
      "outputs": []
    },
    {
      "cell_type": "code",
      "source": [
        "X['includes_bananas'] ="
      ],
      "metadata": {
        "id": "r_Dq7S8etIe9"
      },
      "execution_count": null,
      "outputs": []
    },
    {
      "cell_type": "code",
      "source": [
        "X['includes_bananas']"
      ],
      "metadata": {
        "id": "N9U7UP_JtIa1"
      },
      "execution_count": null,
      "outputs": []
    },
    {
      "cell_type": "markdown",
      "metadata": {
        "id": "yTfnwd5l3xR3"
      },
      "source": [
        "# I.d Feature Engineering"
      ]
    },
    {
      "cell_type": "markdown",
      "metadata": {
        "id": "90wldekKq_fL"
      },
      "source": [
        "## What features can we engineer? We want to predict, will these customers reorder bananas on their next order?\n",
        "\n",
        "- Products per order\n",
        "- Time of day\n",
        "- Have they reordered bananas before? (Have ordered bananas >= 2 times)\n",
        "- Other fruit they buy\n",
        "- Size of orders (customers with smaller orders on average are less likely to be reordering any particular product on their next order)\n",
        "\n",
        "\n",
        "- Frequency of banana orders:\n",
        "    - % of orders\n",
        "    - Time between banana orders: Every n days on average\n",
        "    - Raw count: Total orders, how many times have you ordered bananas?\n",
        "\n",
        "- Recency of banana orders\n",
        "    - n days since you ordered banana"
      ]
    },
    {
      "cell_type": "markdown",
      "source": [
        "\n",
        "\n",
        "Is an order placed before 11:00AM?"
      ],
      "metadata": {
        "id": "cA0PM_gopdoy"
      }
    },
    {
      "cell_type": "code",
      "source": [
        "X['morning_order'] ="
      ],
      "metadata": {
        "id": "g8BibywDtS6Q"
      },
      "execution_count": null,
      "outputs": []
    },
    {
      "cell_type": "code",
      "source": [
        "X.head()"
      ],
      "metadata": {
        "id": "T9yEHzDghAKx"
      },
      "execution_count": null,
      "outputs": []
    },
    {
      "cell_type": "markdown",
      "metadata": {
        "id": "AeTWCvyABbwe"
      },
      "source": [
        "How many items in the order?"
      ]
    },
    {
      "cell_type": "code",
      "source": [
        "n_items_per_order ="
      ],
      "metadata": {
        "id": "vo5KMOA6tS0G"
      },
      "execution_count": null,
      "outputs": []
    },
    {
      "cell_type": "code",
      "source": [],
      "metadata": {
        "id": "20daHvJvhln-"
      },
      "execution_count": null,
      "outputs": []
    },
    {
      "cell_type": "code",
      "source": [],
      "metadata": {
        "id": "Q3lT6Svkhlh4"
      },
      "execution_count": null,
      "outputs": []
    },
    {
      "cell_type": "markdown",
      "metadata": {
        "id": "08sTt2DOBbwe"
      },
      "source": [
        "Did the user order `'Banana'` in previous orders?"
      ]
    },
    {
      "cell_type": "code",
      "source": [
        "\n",
        "order_products_prior['is_banana'] = order_products_prior['product_id'] == 24852\n",
        "banana_orders_id_prior = order_products_prior[order_products_prior['is_banana']]['order_id']\n",
        "\n",
        "\n",
        "prior_orders = orders[orders['eval_set']=='prior'].copy()\n",
        "prior_orders['has_banana'] = prior_orders['order_id'].isin(banana_orders_id_prior)\n",
        "\n",
        "\n",
        "prior_banana_user_ids = prior_orders[prior_orders['has_banana']]['user_id'].unique()\n",
        "\n",
        "X['prior_banana_orders'] = X['user_id'].isin(prior_banana_user_ids).astype(int)"
      ],
      "metadata": {
        "id": "S0vARdAAhpBO"
      },
      "execution_count": null,
      "outputs": []
    },
    {
      "cell_type": "code",
      "source": [
        "X.head()"
      ],
      "metadata": {
        "id": "1FCjSnVHuKJB"
      },
      "execution_count": null,
      "outputs": []
    },
    {
      "cell_type": "markdown",
      "metadata": {
        "id": "mEg8SNdvBbwf"
      },
      "source": [
        "# II. Split Data"
      ]
    },
    {
      "cell_type": "code",
      "source": [
        "target = 'includes_bananas'\n",
        "\n",
        "y = X[target]\n",
        "\n",
        "X = X.drop(columns=['order_id', 'user_id', 'order_number', target])"
      ],
      "metadata": {
        "id": "ysdjhpGDspKA"
      },
      "execution_count": null,
      "outputs": []
    },
    {
      "cell_type": "code",
      "source": [
        "X_train, X_val, y_train, y_val = train_test_split(X,y,test_size=0.2,random_state=42)"
      ],
      "metadata": {
        "id": "ljx7nAhUspGG"
      },
      "execution_count": null,
      "outputs": []
    },
    {
      "cell_type": "markdown",
      "metadata": {
        "id": "VDfK6piFBbwf"
      },
      "source": [
        "# III. Establish Baseline"
      ]
    },
    {
      "cell_type": "code",
      "source": [
        "print('Baseline accuracy:', y_train.value_counts(normalize=True).max())"
      ],
      "metadata": {
        "id": "fA-KcBfssnXo"
      },
      "execution_count": null,
      "outputs": []
    },
    {
      "cell_type": "code",
      "source": [
        "y_train.value_counts(normalize=True).plot(kind='bar')"
      ],
      "metadata": {
        "id": "k-tpqFutsnR-"
      },
      "execution_count": null,
      "outputs": []
    },
    {
      "cell_type": "markdown",
      "metadata": {
        "id": "8rQa7pwVBbwf"
      },
      "source": [
        "# IV. Build Model"
      ]
    },
    {
      "cell_type": "code",
      "source": [
        "model_rf = RandomForestClassifier(random_state=42, n_jobs=-1)\n",
        "\n",
        "model_rf.fit(X_train, y_train)"
      ],
      "metadata": {
        "id": "cHUrG9xVcHxO"
      },
      "execution_count": null,
      "outputs": []
    },
    {
      "cell_type": "markdown",
      "metadata": {
        "id": "H15P2YTzBbwf"
      },
      "source": [
        "# V. Check Metrics"
      ]
    },
    {
      "cell_type": "code",
      "source": [
        "print('RF Training Accuracy:', model_rf.score(X_train, y_train))\n",
        "print('RF Validation Accuracy:', model_rf.score(X_val, y_val))"
      ],
      "metadata": {
        "id": "P3TDoP0Asl83"
      },
      "execution_count": null,
      "outputs": []
    },
    {
      "cell_type": "code",
      "source": [
        "print('RF Training Accuracy:', model_rf.score(X_train, y_train))\n",
        "print('RF Validation Accuracy:', model_rf.score(X_val, y_val))\n"
      ],
      "metadata": {
        "id": "51cX8ibocMLp"
      },
      "execution_count": null,
      "outputs": []
    }
  ]
}